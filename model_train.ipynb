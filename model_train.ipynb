{
 "cells": [
  {
   "cell_type": "code",
   "execution_count": 57,
   "metadata": {},
   "outputs": [],
   "source": [
    "import polars as pl\n",
    "from sklearn.model_selection import train_test_split\n",
    "from sklearn.preprocessing import LabelEncoder, StandardScaler"
   ]
  },
  {
   "cell_type": "code",
   "execution_count": 58,
   "metadata": {},
   "outputs": [
    {
     "data": {
      "text/html": [
       "<div><style>\n",
       ".dataframe > thead > tr,\n",
       ".dataframe > tbody > tr {\n",
       "  text-align: right;\n",
       "  white-space: pre-wrap;\n",
       "}\n",
       "</style>\n",
       "<small>shape: (5, 9)</small><table border=\"1\" class=\"dataframe\"><thead><tr><th>age</th><th>sex</th><th>bmi</th><th>children</th><th>smoker</th><th>region</th><th>charges</th><th>heart_disease_history</th><th>occupation</th></tr><tr><td>i64</td><td>str</td><td>f64</td><td>i64</td><td>str</td><td>str</td><td>f64</td><td>str</td><td>str</td></tr></thead><tbody><tr><td>19</td><td>&quot;female&quot;</td><td>27.9</td><td>0</td><td>&quot;yes&quot;</td><td>&quot;Asia&quot;</td><td>16884.924</td><td>&quot;no&quot;</td><td>&quot;student&quot;</td></tr><tr><td>18</td><td>&quot;male&quot;</td><td>33.77</td><td>1</td><td>&quot;no&quot;</td><td>&quot;North America&quot;</td><td>1725.5523</td><td>&quot;yes&quot;</td><td>&quot;salaried&quot;</td></tr><tr><td>28</td><td>&quot;male&quot;</td><td>33.0</td><td>3</td><td>&quot;no&quot;</td><td>&quot;Africa&quot;</td><td>4449.462</td><td>&quot;yes&quot;</td><td>&quot;student&quot;</td></tr><tr><td>33</td><td>&quot;male&quot;</td><td>22.705</td><td>0</td><td>&quot;no&quot;</td><td>&quot;Oceania&quot;</td><td>21984.47061</td><td>&quot;no&quot;</td><td>&quot;student&quot;</td></tr><tr><td>32</td><td>&quot;male&quot;</td><td>28.88</td><td>0</td><td>&quot;no&quot;</td><td>&quot;Europe&quot;</td><td>3866.8552</td><td>&quot;no&quot;</td><td>&quot;business&quot;</td></tr></tbody></table></div>"
      ],
      "text/plain": [
       "shape: (5, 9)\n",
       "┌─────┬────────┬────────┬──────────┬───┬───────────────┬─────────────┬────────────────┬────────────┐\n",
       "│ age ┆ sex    ┆ bmi    ┆ children ┆ … ┆ region        ┆ charges     ┆ heart_disease_ ┆ occupation │\n",
       "│ --- ┆ ---    ┆ ---    ┆ ---      ┆   ┆ ---           ┆ ---         ┆ history        ┆ ---        │\n",
       "│ i64 ┆ str    ┆ f64    ┆ i64      ┆   ┆ str           ┆ f64         ┆ ---            ┆ str        │\n",
       "│     ┆        ┆        ┆          ┆   ┆               ┆             ┆ str            ┆            │\n",
       "╞═════╪════════╪════════╪══════════╪═══╪═══════════════╪═════════════╪════════════════╪════════════╡\n",
       "│ 19  ┆ female ┆ 27.9   ┆ 0        ┆ … ┆ Asia          ┆ 16884.924   ┆ no             ┆ student    │\n",
       "│ 18  ┆ male   ┆ 33.77  ┆ 1        ┆ … ┆ North America ┆ 1725.5523   ┆ yes            ┆ salaried   │\n",
       "│ 28  ┆ male   ┆ 33.0   ┆ 3        ┆ … ┆ Africa        ┆ 4449.462    ┆ yes            ┆ student    │\n",
       "│ 33  ┆ male   ┆ 22.705 ┆ 0        ┆ … ┆ Oceania       ┆ 21984.47061 ┆ no             ┆ student    │\n",
       "│ 32  ┆ male   ┆ 28.88  ┆ 0        ┆ … ┆ Europe        ┆ 3866.8552   ┆ no             ┆ business   │\n",
       "└─────┴────────┴────────┴──────────┴───┴───────────────┴─────────────┴────────────────┴────────────┘"
      ]
     },
     "execution_count": 58,
     "metadata": {},
     "output_type": "execute_result"
    }
   ],
   "source": [
    "df = pl.read_csv('hehe.csv')\n",
    "df.head(5)"
   ]
  },
  {
   "cell_type": "code",
   "execution_count": 59,
   "metadata": {},
   "outputs": [
    {
     "data": {
      "text/html": [
       "<div><style>\n",
       ".dataframe > thead > tr,\n",
       ".dataframe > tbody > tr {\n",
       "  text-align: right;\n",
       "  white-space: pre-wrap;\n",
       "}\n",
       "</style>\n",
       "<small>shape: (2_022_772, 9)</small><table border=\"1\" class=\"dataframe\"><thead><tr><th>age</th><th>sex</th><th>bmi</th><th>children</th><th>smoker</th><th>region</th><th>charges</th><th>heart_disease_history</th><th>occupation</th></tr><tr><td>i64</td><td>str</td><td>f64</td><td>i64</td><td>str</td><td>str</td><td>f64</td><td>str</td><td>str</td></tr></thead><tbody><tr><td>19</td><td>&quot;female&quot;</td><td>27.9</td><td>0</td><td>&quot;yes&quot;</td><td>&quot;Asia&quot;</td><td>16884.924</td><td>&quot;no&quot;</td><td>&quot;student&quot;</td></tr><tr><td>18</td><td>&quot;male&quot;</td><td>33.77</td><td>1</td><td>&quot;no&quot;</td><td>&quot;North America&quot;</td><td>1725.5523</td><td>&quot;yes&quot;</td><td>&quot;salaried&quot;</td></tr><tr><td>28</td><td>&quot;male&quot;</td><td>33.0</td><td>3</td><td>&quot;no&quot;</td><td>&quot;Africa&quot;</td><td>4449.462</td><td>&quot;yes&quot;</td><td>&quot;student&quot;</td></tr><tr><td>33</td><td>&quot;male&quot;</td><td>22.705</td><td>0</td><td>&quot;no&quot;</td><td>&quot;Oceania&quot;</td><td>21984.47061</td><td>&quot;no&quot;</td><td>&quot;student&quot;</td></tr><tr><td>32</td><td>&quot;male&quot;</td><td>28.88</td><td>0</td><td>&quot;no&quot;</td><td>&quot;Europe&quot;</td><td>3866.8552</td><td>&quot;no&quot;</td><td>&quot;business&quot;</td></tr><tr><td>&hellip;</td><td>&hellip;</td><td>&hellip;</td><td>&hellip;</td><td>&hellip;</td><td>&hellip;</td><td>&hellip;</td><td>&hellip;</td><td>&hellip;</td></tr><tr><td>22</td><td>&quot;male&quot;</td><td>31.4</td><td>5</td><td>&quot;yes&quot;</td><td>&quot;Oceania&quot;</td><td>49085.12</td><td>&quot;no&quot;</td><td>&quot;unemployed&quot;</td></tr><tr><td>25</td><td>&quot;female&quot;</td><td>39.3</td><td>3</td><td>&quot;no&quot;</td><td>&quot;South America&quot;</td><td>47172.63</td><td>&quot;yes&quot;</td><td>&quot;unemployed&quot;</td></tr><tr><td>29</td><td>&quot;male&quot;</td><td>32.4</td><td>3</td><td>&quot;yes&quot;</td><td>&quot;Europe&quot;</td><td>41218.82</td><td>&quot;yes&quot;</td><td>&quot;student&quot;</td></tr><tr><td>25</td><td>&quot;male&quot;</td><td>39.5</td><td>5</td><td>&quot;no&quot;</td><td>&quot;Antarctica&quot;</td><td>49402.26</td><td>&quot;no&quot;</td><td>&quot;salaried&quot;</td></tr><tr><td>26</td><td>&quot;female&quot;</td><td>25.6</td><td>3</td><td>&quot;no&quot;</td><td>&quot;South America&quot;</td><td>18855.9</td><td>&quot;yes&quot;</td><td>&quot;salaried&quot;</td></tr></tbody></table></div>"
      ],
      "text/plain": [
       "shape: (2_022_772, 9)\n",
       "┌─────┬────────┬────────┬──────────┬───┬───────────────┬─────────────┬────────────────┬────────────┐\n",
       "│ age ┆ sex    ┆ bmi    ┆ children ┆ … ┆ region        ┆ charges     ┆ heart_disease_ ┆ occupation │\n",
       "│ --- ┆ ---    ┆ ---    ┆ ---      ┆   ┆ ---           ┆ ---         ┆ history        ┆ ---        │\n",
       "│ i64 ┆ str    ┆ f64    ┆ i64      ┆   ┆ str           ┆ f64         ┆ ---            ┆ str        │\n",
       "│     ┆        ┆        ┆          ┆   ┆               ┆             ┆ str            ┆            │\n",
       "╞═════╪════════╪════════╪══════════╪═══╪═══════════════╪═════════════╪════════════════╪════════════╡\n",
       "│ 19  ┆ female ┆ 27.9   ┆ 0        ┆ … ┆ Asia          ┆ 16884.924   ┆ no             ┆ student    │\n",
       "│ 18  ┆ male   ┆ 33.77  ┆ 1        ┆ … ┆ North America ┆ 1725.5523   ┆ yes            ┆ salaried   │\n",
       "│ 28  ┆ male   ┆ 33.0   ┆ 3        ┆ … ┆ Africa        ┆ 4449.462    ┆ yes            ┆ student    │\n",
       "│ 33  ┆ male   ┆ 22.705 ┆ 0        ┆ … ┆ Oceania       ┆ 21984.47061 ┆ no             ┆ student    │\n",
       "│ 32  ┆ male   ┆ 28.88  ┆ 0        ┆ … ┆ Europe        ┆ 3866.8552   ┆ no             ┆ business   │\n",
       "│ …   ┆ …      ┆ …      ┆ …        ┆ … ┆ …             ┆ …           ┆ …              ┆ …          │\n",
       "│ 22  ┆ male   ┆ 31.4   ┆ 5        ┆ … ┆ Oceania       ┆ 49085.12    ┆ no             ┆ unemployed │\n",
       "│ 25  ┆ female ┆ 39.3   ┆ 3        ┆ … ┆ South America ┆ 47172.63    ┆ yes            ┆ unemployed │\n",
       "│ 29  ┆ male   ┆ 32.4   ┆ 3        ┆ … ┆ Europe        ┆ 41218.82    ┆ yes            ┆ student    │\n",
       "│ 25  ┆ male   ┆ 39.5   ┆ 5        ┆ … ┆ Antarctica    ┆ 49402.26    ┆ no             ┆ salaried   │\n",
       "│ 26  ┆ female ┆ 25.6   ┆ 3        ┆ … ┆ South America ┆ 18855.9     ┆ yes            ┆ salaried   │\n",
       "└─────┴────────┴────────┴──────────┴───┴───────────────┴─────────────┴────────────────┴────────────┘"
      ]
     },
     "execution_count": 59,
     "metadata": {},
     "output_type": "execute_result"
    }
   ],
   "source": [
    "df"
   ]
  },
  {
   "cell_type": "code",
   "execution_count": 60,
   "metadata": {},
   "outputs": [
    {
     "data": {
      "text/html": [
       "<div><style>\n",
       ".dataframe > thead > tr,\n",
       ".dataframe > tbody > tr {\n",
       "  text-align: right;\n",
       "  white-space: pre-wrap;\n",
       "}\n",
       "</style>\n",
       "<small>shape: (2_022_772, 9)</small><table border=\"1\" class=\"dataframe\"><thead><tr><th>age</th><th>sex</th><th>bmi</th><th>children</th><th>smoker</th><th>region</th><th>charges</th><th>heart_disease_history</th><th>occupation</th></tr><tr><td>i64</td><td>str</td><td>f64</td><td>i64</td><td>str</td><td>str</td><td>f64</td><td>str</td><td>str</td></tr></thead><tbody><tr><td>19</td><td>&quot;female&quot;</td><td>27.9</td><td>0</td><td>&quot;yes&quot;</td><td>&quot;Asia&quot;</td><td>16884.924</td><td>&quot;no&quot;</td><td>&quot;student&quot;</td></tr><tr><td>18</td><td>&quot;male&quot;</td><td>33.77</td><td>1</td><td>&quot;no&quot;</td><td>&quot;North America&quot;</td><td>1725.5523</td><td>&quot;yes&quot;</td><td>&quot;salaried&quot;</td></tr><tr><td>28</td><td>&quot;male&quot;</td><td>33.0</td><td>3</td><td>&quot;no&quot;</td><td>&quot;Africa&quot;</td><td>4449.462</td><td>&quot;yes&quot;</td><td>&quot;student&quot;</td></tr><tr><td>33</td><td>&quot;male&quot;</td><td>22.705</td><td>0</td><td>&quot;no&quot;</td><td>&quot;Oceania&quot;</td><td>21984.47061</td><td>&quot;no&quot;</td><td>&quot;student&quot;</td></tr><tr><td>32</td><td>&quot;male&quot;</td><td>28.88</td><td>0</td><td>&quot;no&quot;</td><td>&quot;Europe&quot;</td><td>3866.8552</td><td>&quot;no&quot;</td><td>&quot;business&quot;</td></tr><tr><td>&hellip;</td><td>&hellip;</td><td>&hellip;</td><td>&hellip;</td><td>&hellip;</td><td>&hellip;</td><td>&hellip;</td><td>&hellip;</td><td>&hellip;</td></tr><tr><td>22</td><td>&quot;male&quot;</td><td>31.4</td><td>5</td><td>&quot;yes&quot;</td><td>&quot;Oceania&quot;</td><td>49085.12</td><td>&quot;no&quot;</td><td>&quot;unemployed&quot;</td></tr><tr><td>25</td><td>&quot;female&quot;</td><td>39.3</td><td>3</td><td>&quot;no&quot;</td><td>&quot;South America&quot;</td><td>47172.63</td><td>&quot;yes&quot;</td><td>&quot;unemployed&quot;</td></tr><tr><td>29</td><td>&quot;male&quot;</td><td>32.4</td><td>3</td><td>&quot;yes&quot;</td><td>&quot;Europe&quot;</td><td>41218.82</td><td>&quot;yes&quot;</td><td>&quot;student&quot;</td></tr><tr><td>25</td><td>&quot;male&quot;</td><td>39.5</td><td>5</td><td>&quot;no&quot;</td><td>&quot;Antarctica&quot;</td><td>49402.26</td><td>&quot;no&quot;</td><td>&quot;salaried&quot;</td></tr><tr><td>26</td><td>&quot;female&quot;</td><td>25.6</td><td>3</td><td>&quot;no&quot;</td><td>&quot;South America&quot;</td><td>18855.9</td><td>&quot;yes&quot;</td><td>&quot;salaried&quot;</td></tr></tbody></table></div>"
      ],
      "text/plain": [
       "shape: (2_022_772, 9)\n",
       "┌─────┬────────┬────────┬──────────┬───┬───────────────┬─────────────┬────────────────┬────────────┐\n",
       "│ age ┆ sex    ┆ bmi    ┆ children ┆ … ┆ region        ┆ charges     ┆ heart_disease_ ┆ occupation │\n",
       "│ --- ┆ ---    ┆ ---    ┆ ---      ┆   ┆ ---           ┆ ---         ┆ history        ┆ ---        │\n",
       "│ i64 ┆ str    ┆ f64    ┆ i64      ┆   ┆ str           ┆ f64         ┆ ---            ┆ str        │\n",
       "│     ┆        ┆        ┆          ┆   ┆               ┆             ┆ str            ┆            │\n",
       "╞═════╪════════╪════════╪══════════╪═══╪═══════════════╪═════════════╪════════════════╪════════════╡\n",
       "│ 19  ┆ female ┆ 27.9   ┆ 0        ┆ … ┆ Asia          ┆ 16884.924   ┆ no             ┆ student    │\n",
       "│ 18  ┆ male   ┆ 33.77  ┆ 1        ┆ … ┆ North America ┆ 1725.5523   ┆ yes            ┆ salaried   │\n",
       "│ 28  ┆ male   ┆ 33.0   ┆ 3        ┆ … ┆ Africa        ┆ 4449.462    ┆ yes            ┆ student    │\n",
       "│ 33  ┆ male   ┆ 22.705 ┆ 0        ┆ … ┆ Oceania       ┆ 21984.47061 ┆ no             ┆ student    │\n",
       "│ 32  ┆ male   ┆ 28.88  ┆ 0        ┆ … ┆ Europe        ┆ 3866.8552   ┆ no             ┆ business   │\n",
       "│ …   ┆ …      ┆ …      ┆ …        ┆ … ┆ …             ┆ …           ┆ …              ┆ …          │\n",
       "│ 22  ┆ male   ┆ 31.4   ┆ 5        ┆ … ┆ Oceania       ┆ 49085.12    ┆ no             ┆ unemployed │\n",
       "│ 25  ┆ female ┆ 39.3   ┆ 3        ┆ … ┆ South America ┆ 47172.63    ┆ yes            ┆ unemployed │\n",
       "│ 29  ┆ male   ┆ 32.4   ┆ 3        ┆ … ┆ Europe        ┆ 41218.82    ┆ yes            ┆ student    │\n",
       "│ 25  ┆ male   ┆ 39.5   ┆ 5        ┆ … ┆ Antarctica    ┆ 49402.26    ┆ no             ┆ salaried   │\n",
       "│ 26  ┆ female ┆ 25.6   ┆ 3        ┆ … ┆ South America ┆ 18855.9     ┆ yes            ┆ salaried   │\n",
       "└─────┴────────┴────────┴──────────┴───┴───────────────┴─────────────┴────────────────┴────────────┘"
      ]
     },
     "execution_count": 60,
     "metadata": {},
     "output_type": "execute_result"
    }
   ],
   "source": [
    "# checking for null values\n",
    "df.drop_nulls()"
   ]
  },
  {
   "cell_type": "code",
   "execution_count": 61,
   "metadata": {},
   "outputs": [],
   "source": [
    "df = df.rename({\"sex\": \"gender\"})"
   ]
  },
  {
   "cell_type": "code",
   "execution_count": 62,
   "metadata": {},
   "outputs": [
    {
     "data": {
      "text/html": [
       "<div><style>\n",
       ".dataframe > thead > tr,\n",
       ".dataframe > tbody > tr {\n",
       "  text-align: right;\n",
       "  white-space: pre-wrap;\n",
       "}\n",
       "</style>\n",
       "<small>shape: (74, 9)</small><table border=\"1\" class=\"dataframe\"><thead><tr><th>age</th><th>gender</th><th>bmi</th><th>children</th><th>smoker</th><th>region</th><th>charges</th><th>heart_disease_history</th><th>occupation</th></tr><tr><td>i64</td><td>str</td><td>f64</td><td>i64</td><td>str</td><td>str</td><td>f64</td><td>str</td><td>str</td></tr></thead><tbody><tr><td>62</td><td>&quot;female&quot;</td><td>32.965</td><td>3</td><td>&quot;no&quot;</td><td>&quot;Antarctica&quot;</td><td>15612.19335</td><td>&quot;yes&quot;</td><td>&quot;student&quot;</td></tr><tr><td>57</td><td>&quot;male&quot;</td><td>34.01</td><td>0</td><td>&quot;no&quot;</td><td>&quot;Oceania&quot;</td><td>11356.6609</td><td>&quot;yes&quot;</td><td>&quot;salaried&quot;</td></tr><tr><td>22</td><td>&quot;female&quot;</td><td>28.05</td><td>0</td><td>&quot;no&quot;</td><td>&quot;Antarctica&quot;</td><td>2155.6815</td><td>&quot;yes&quot;</td><td>&quot;student&quot;</td></tr><tr><td>34</td><td>&quot;male&quot;</td><td>22.42</td><td>2</td><td>&quot;no&quot;</td><td>&quot;Antarctica&quot;</td><td>27375.90478</td><td>&quot;yes&quot;</td><td>&quot;unemployed&quot;</td></tr><tr><td>18</td><td>&quot;female&quot;</td><td>38.28</td><td>0</td><td>&quot;no&quot;</td><td>&quot;South America&quot;</td><td>1631.8212</td><td>&quot;yes&quot;</td><td>&quot;student&quot;</td></tr><tr><td>&hellip;</td><td>&hellip;</td><td>&hellip;</td><td>&hellip;</td><td>&hellip;</td><td>&hellip;</td><td>&hellip;</td><td>&hellip;</td><td>&hellip;</td></tr><tr><td>42</td><td>&quot;male&quot;</td><td>26.315</td><td>1</td><td>&quot;no&quot;</td><td>&quot;Oceania&quot;</td><td>6940.90985</td><td>&quot;no&quot;</td><td>&quot;business&quot;</td></tr><tr><td>39</td><td>&quot;female&quot;</td><td>26.315</td><td>2</td><td>&quot;no&quot;</td><td>&quot;Europe&quot;</td><td>7201.70085</td><td>&quot;no&quot;</td><td>&quot;student&quot;</td></tr><tr><td>39</td><td>&quot;female&quot;</td><td>24.225</td><td>5</td><td>&quot;no&quot;</td><td>&quot;South America&quot;</td><td>8965.79575</td><td>&quot;no&quot;</td><td>&quot;business&quot;</td></tr><tr><td>18</td><td>&quot;male&quot;</td><td>23.21</td><td>0</td><td>&quot;no&quot;</td><td>&quot;Europe&quot;</td><td>1121.8739</td><td>&quot;no&quot;</td><td>&quot;student&quot;</td></tr><tr><td>23</td><td>&quot;male&quot;</td><td>18.715</td><td>0</td><td>&quot;no&quot;</td><td>&quot;Antarctica&quot;</td><td>21595.38229</td><td>&quot;no&quot;</td><td>&quot;business&quot;</td></tr></tbody></table></div>"
      ],
      "text/plain": [
       "shape: (74, 9)\n",
       "┌─────┬────────┬────────┬──────────┬───┬───────────────┬─────────────┬────────────────┬────────────┐\n",
       "│ age ┆ gender ┆ bmi    ┆ children ┆ … ┆ region        ┆ charges     ┆ heart_disease_ ┆ occupation │\n",
       "│ --- ┆ ---    ┆ ---    ┆ ---      ┆   ┆ ---           ┆ ---         ┆ history        ┆ ---        │\n",
       "│ i64 ┆ str    ┆ f64    ┆ i64      ┆   ┆ str           ┆ f64         ┆ ---            ┆ str        │\n",
       "│     ┆        ┆        ┆          ┆   ┆               ┆             ┆ str            ┆            │\n",
       "╞═════╪════════╪════════╪══════════╪═══╪═══════════════╪═════════════╪════════════════╪════════════╡\n",
       "│ 62  ┆ female ┆ 32.965 ┆ 3        ┆ … ┆ Antarctica    ┆ 15612.19335 ┆ yes            ┆ student    │\n",
       "│ 57  ┆ male   ┆ 34.01  ┆ 0        ┆ … ┆ Oceania       ┆ 11356.6609  ┆ yes            ┆ salaried   │\n",
       "│ 22  ┆ female ┆ 28.05  ┆ 0        ┆ … ┆ Antarctica    ┆ 2155.6815   ┆ yes            ┆ student    │\n",
       "│ 34  ┆ male   ┆ 22.42  ┆ 2        ┆ … ┆ Antarctica    ┆ 27375.90478 ┆ yes            ┆ unemployed │\n",
       "│ 18  ┆ female ┆ 38.28  ┆ 0        ┆ … ┆ South America ┆ 1631.8212   ┆ yes            ┆ student    │\n",
       "│ …   ┆ …      ┆ …      ┆ …        ┆ … ┆ …             ┆ …           ┆ …              ┆ …          │\n",
       "│ 42  ┆ male   ┆ 26.315 ┆ 1        ┆ … ┆ Oceania       ┆ 6940.90985  ┆ no             ┆ business   │\n",
       "│ 39  ┆ female ┆ 26.315 ┆ 2        ┆ … ┆ Europe        ┆ 7201.70085  ┆ no             ┆ student    │\n",
       "│ 39  ┆ female ┆ 24.225 ┆ 5        ┆ … ┆ South America ┆ 8965.79575  ┆ no             ┆ business   │\n",
       "│ 18  ┆ male   ┆ 23.21  ┆ 0        ┆ … ┆ Europe        ┆ 1121.8739   ┆ no             ┆ student    │\n",
       "│ 23  ┆ male   ┆ 18.715 ┆ 0        ┆ … ┆ Antarctica    ┆ 21595.38229 ┆ no             ┆ business   │\n",
       "└─────┴────────┴────────┴──────────┴───┴───────────────┴─────────────┴────────────────┴────────────┘"
      ]
     },
     "execution_count": 62,
     "metadata": {},
     "output_type": "execute_result"
    }
   ],
   "source": [
    "df.filter(df.is_duplicated())"
   ]
  },
  {
   "cell_type": "code",
   "execution_count": 63,
   "metadata": {},
   "outputs": [],
   "source": [
    "df = df.filter(df.is_unique())"
   ]
  },
  {
   "cell_type": "code",
   "execution_count": 64,
   "metadata": {},
   "outputs": [
    {
     "data": {
      "text/html": [
       "<div><style>\n",
       ".dataframe > thead > tr,\n",
       ".dataframe > tbody > tr {\n",
       "  text-align: right;\n",
       "  white-space: pre-wrap;\n",
       "}\n",
       "</style>\n",
       "<small>shape: (2_022_698, 9)</small><table border=\"1\" class=\"dataframe\"><thead><tr><th>age</th><th>gender</th><th>bmi</th><th>children</th><th>smoker</th><th>region</th><th>charges</th><th>heart_disease_history</th><th>occupation</th></tr><tr><td>i64</td><td>str</td><td>f64</td><td>i64</td><td>str</td><td>str</td><td>f64</td><td>str</td><td>str</td></tr></thead><tbody><tr><td>19</td><td>&quot;female&quot;</td><td>27.9</td><td>0</td><td>&quot;yes&quot;</td><td>&quot;Asia&quot;</td><td>16884.924</td><td>&quot;no&quot;</td><td>&quot;student&quot;</td></tr><tr><td>18</td><td>&quot;male&quot;</td><td>33.77</td><td>1</td><td>&quot;no&quot;</td><td>&quot;North America&quot;</td><td>1725.5523</td><td>&quot;yes&quot;</td><td>&quot;salaried&quot;</td></tr><tr><td>28</td><td>&quot;male&quot;</td><td>33.0</td><td>3</td><td>&quot;no&quot;</td><td>&quot;Africa&quot;</td><td>4449.462</td><td>&quot;yes&quot;</td><td>&quot;student&quot;</td></tr><tr><td>33</td><td>&quot;male&quot;</td><td>22.705</td><td>0</td><td>&quot;no&quot;</td><td>&quot;Oceania&quot;</td><td>21984.47061</td><td>&quot;no&quot;</td><td>&quot;student&quot;</td></tr><tr><td>32</td><td>&quot;male&quot;</td><td>28.88</td><td>0</td><td>&quot;no&quot;</td><td>&quot;Europe&quot;</td><td>3866.8552</td><td>&quot;no&quot;</td><td>&quot;business&quot;</td></tr><tr><td>&hellip;</td><td>&hellip;</td><td>&hellip;</td><td>&hellip;</td><td>&hellip;</td><td>&hellip;</td><td>&hellip;</td><td>&hellip;</td><td>&hellip;</td></tr><tr><td>22</td><td>&quot;male&quot;</td><td>31.4</td><td>5</td><td>&quot;yes&quot;</td><td>&quot;Oceania&quot;</td><td>49085.12</td><td>&quot;no&quot;</td><td>&quot;unemployed&quot;</td></tr><tr><td>25</td><td>&quot;female&quot;</td><td>39.3</td><td>3</td><td>&quot;no&quot;</td><td>&quot;South America&quot;</td><td>47172.63</td><td>&quot;yes&quot;</td><td>&quot;unemployed&quot;</td></tr><tr><td>29</td><td>&quot;male&quot;</td><td>32.4</td><td>3</td><td>&quot;yes&quot;</td><td>&quot;Europe&quot;</td><td>41218.82</td><td>&quot;yes&quot;</td><td>&quot;student&quot;</td></tr><tr><td>25</td><td>&quot;male&quot;</td><td>39.5</td><td>5</td><td>&quot;no&quot;</td><td>&quot;Antarctica&quot;</td><td>49402.26</td><td>&quot;no&quot;</td><td>&quot;salaried&quot;</td></tr><tr><td>26</td><td>&quot;female&quot;</td><td>25.6</td><td>3</td><td>&quot;no&quot;</td><td>&quot;South America&quot;</td><td>18855.9</td><td>&quot;yes&quot;</td><td>&quot;salaried&quot;</td></tr></tbody></table></div>"
      ],
      "text/plain": [
       "shape: (2_022_698, 9)\n",
       "┌─────┬────────┬────────┬──────────┬───┬───────────────┬─────────────┬────────────────┬────────────┐\n",
       "│ age ┆ gender ┆ bmi    ┆ children ┆ … ┆ region        ┆ charges     ┆ heart_disease_ ┆ occupation │\n",
       "│ --- ┆ ---    ┆ ---    ┆ ---      ┆   ┆ ---           ┆ ---         ┆ history        ┆ ---        │\n",
       "│ i64 ┆ str    ┆ f64    ┆ i64      ┆   ┆ str           ┆ f64         ┆ ---            ┆ str        │\n",
       "│     ┆        ┆        ┆          ┆   ┆               ┆             ┆ str            ┆            │\n",
       "╞═════╪════════╪════════╪══════════╪═══╪═══════════════╪═════════════╪════════════════╪════════════╡\n",
       "│ 19  ┆ female ┆ 27.9   ┆ 0        ┆ … ┆ Asia          ┆ 16884.924   ┆ no             ┆ student    │\n",
       "│ 18  ┆ male   ┆ 33.77  ┆ 1        ┆ … ┆ North America ┆ 1725.5523   ┆ yes            ┆ salaried   │\n",
       "│ 28  ┆ male   ┆ 33.0   ┆ 3        ┆ … ┆ Africa        ┆ 4449.462    ┆ yes            ┆ student    │\n",
       "│ 33  ┆ male   ┆ 22.705 ┆ 0        ┆ … ┆ Oceania       ┆ 21984.47061 ┆ no             ┆ student    │\n",
       "│ 32  ┆ male   ┆ 28.88  ┆ 0        ┆ … ┆ Europe        ┆ 3866.8552   ┆ no             ┆ business   │\n",
       "│ …   ┆ …      ┆ …      ┆ …        ┆ … ┆ …             ┆ …           ┆ …              ┆ …          │\n",
       "│ 22  ┆ male   ┆ 31.4   ┆ 5        ┆ … ┆ Oceania       ┆ 49085.12    ┆ no             ┆ unemployed │\n",
       "│ 25  ┆ female ┆ 39.3   ┆ 3        ┆ … ┆ South America ┆ 47172.63    ┆ yes            ┆ unemployed │\n",
       "│ 29  ┆ male   ┆ 32.4   ┆ 3        ┆ … ┆ Europe        ┆ 41218.82    ┆ yes            ┆ student    │\n",
       "│ 25  ┆ male   ┆ 39.5   ┆ 5        ┆ … ┆ Antarctica    ┆ 49402.26    ┆ no             ┆ salaried   │\n",
       "│ 26  ┆ female ┆ 25.6   ┆ 3        ┆ … ┆ South America ┆ 18855.9     ┆ yes            ┆ salaried   │\n",
       "└─────┴────────┴────────┴──────────┴───┴───────────────┴─────────────┴────────────────┴────────────┘"
      ]
     },
     "execution_count": 64,
     "metadata": {},
     "output_type": "execute_result"
    }
   ],
   "source": [
    "df"
   ]
  },
  {
   "cell_type": "code",
   "execution_count": 65,
   "metadata": {},
   "outputs": [
    {
     "data": {
      "text/plain": [
       "False"
      ]
     },
     "execution_count": 65,
     "metadata": {},
     "output_type": "execute_result"
    }
   ],
   "source": [
    "df.is_duplicated().any()"
   ]
  },
  {
   "cell_type": "code",
   "execution_count": 66,
   "metadata": {},
   "outputs": [
    {
     "data": {
      "text/html": [
       "<div><style>\n",
       ".dataframe > thead > tr,\n",
       ".dataframe > tbody > tr {\n",
       "  text-align: right;\n",
       "  white-space: pre-wrap;\n",
       "}\n",
       "</style>\n",
       "<small>shape: (2_022_698, 9)</small><table border=\"1\" class=\"dataframe\"><thead><tr><th>age</th><th>gender</th><th>bmi</th><th>children</th><th>smoker</th><th>region</th><th>charges</th><th>heart_disease_history</th><th>occupation</th></tr><tr><td>i64</td><td>i64</td><td>f64</td><td>i64</td><td>str</td><td>str</td><td>f64</td><td>str</td><td>str</td></tr></thead><tbody><tr><td>19</td><td>0</td><td>27.9</td><td>0</td><td>&quot;yes&quot;</td><td>&quot;Asia&quot;</td><td>16884.924</td><td>&quot;no&quot;</td><td>&quot;student&quot;</td></tr><tr><td>18</td><td>1</td><td>33.77</td><td>1</td><td>&quot;no&quot;</td><td>&quot;North America&quot;</td><td>1725.5523</td><td>&quot;yes&quot;</td><td>&quot;salaried&quot;</td></tr><tr><td>28</td><td>1</td><td>33.0</td><td>3</td><td>&quot;no&quot;</td><td>&quot;Africa&quot;</td><td>4449.462</td><td>&quot;yes&quot;</td><td>&quot;student&quot;</td></tr><tr><td>33</td><td>1</td><td>22.705</td><td>0</td><td>&quot;no&quot;</td><td>&quot;Oceania&quot;</td><td>21984.47061</td><td>&quot;no&quot;</td><td>&quot;student&quot;</td></tr><tr><td>32</td><td>1</td><td>28.88</td><td>0</td><td>&quot;no&quot;</td><td>&quot;Europe&quot;</td><td>3866.8552</td><td>&quot;no&quot;</td><td>&quot;business&quot;</td></tr><tr><td>&hellip;</td><td>&hellip;</td><td>&hellip;</td><td>&hellip;</td><td>&hellip;</td><td>&hellip;</td><td>&hellip;</td><td>&hellip;</td><td>&hellip;</td></tr><tr><td>22</td><td>1</td><td>31.4</td><td>5</td><td>&quot;yes&quot;</td><td>&quot;Oceania&quot;</td><td>49085.12</td><td>&quot;no&quot;</td><td>&quot;unemployed&quot;</td></tr><tr><td>25</td><td>0</td><td>39.3</td><td>3</td><td>&quot;no&quot;</td><td>&quot;South America&quot;</td><td>47172.63</td><td>&quot;yes&quot;</td><td>&quot;unemployed&quot;</td></tr><tr><td>29</td><td>1</td><td>32.4</td><td>3</td><td>&quot;yes&quot;</td><td>&quot;Europe&quot;</td><td>41218.82</td><td>&quot;yes&quot;</td><td>&quot;student&quot;</td></tr><tr><td>25</td><td>1</td><td>39.5</td><td>5</td><td>&quot;no&quot;</td><td>&quot;Antarctica&quot;</td><td>49402.26</td><td>&quot;no&quot;</td><td>&quot;salaried&quot;</td></tr><tr><td>26</td><td>0</td><td>25.6</td><td>3</td><td>&quot;no&quot;</td><td>&quot;South America&quot;</td><td>18855.9</td><td>&quot;yes&quot;</td><td>&quot;salaried&quot;</td></tr></tbody></table></div>"
      ],
      "text/plain": [
       "shape: (2_022_698, 9)\n",
       "┌─────┬────────┬────────┬──────────┬───┬───────────────┬─────────────┬────────────────┬────────────┐\n",
       "│ age ┆ gender ┆ bmi    ┆ children ┆ … ┆ region        ┆ charges     ┆ heart_disease_ ┆ occupation │\n",
       "│ --- ┆ ---    ┆ ---    ┆ ---      ┆   ┆ ---           ┆ ---         ┆ history        ┆ ---        │\n",
       "│ i64 ┆ i64    ┆ f64    ┆ i64      ┆   ┆ str           ┆ f64         ┆ ---            ┆ str        │\n",
       "│     ┆        ┆        ┆          ┆   ┆               ┆             ┆ str            ┆            │\n",
       "╞═════╪════════╪════════╪══════════╪═══╪═══════════════╪═════════════╪════════════════╪════════════╡\n",
       "│ 19  ┆ 0      ┆ 27.9   ┆ 0        ┆ … ┆ Asia          ┆ 16884.924   ┆ no             ┆ student    │\n",
       "│ 18  ┆ 1      ┆ 33.77  ┆ 1        ┆ … ┆ North America ┆ 1725.5523   ┆ yes            ┆ salaried   │\n",
       "│ 28  ┆ 1      ┆ 33.0   ┆ 3        ┆ … ┆ Africa        ┆ 4449.462    ┆ yes            ┆ student    │\n",
       "│ 33  ┆ 1      ┆ 22.705 ┆ 0        ┆ … ┆ Oceania       ┆ 21984.47061 ┆ no             ┆ student    │\n",
       "│ 32  ┆ 1      ┆ 28.88  ┆ 0        ┆ … ┆ Europe        ┆ 3866.8552   ┆ no             ┆ business   │\n",
       "│ …   ┆ …      ┆ …      ┆ …        ┆ … ┆ …             ┆ …           ┆ …              ┆ …          │\n",
       "│ 22  ┆ 1      ┆ 31.4   ┆ 5        ┆ … ┆ Oceania       ┆ 49085.12    ┆ no             ┆ unemployed │\n",
       "│ 25  ┆ 0      ┆ 39.3   ┆ 3        ┆ … ┆ South America ┆ 47172.63    ┆ yes            ┆ unemployed │\n",
       "│ 29  ┆ 1      ┆ 32.4   ┆ 3        ┆ … ┆ Europe        ┆ 41218.82    ┆ yes            ┆ student    │\n",
       "│ 25  ┆ 1      ┆ 39.5   ┆ 5        ┆ … ┆ Antarctica    ┆ 49402.26    ┆ no             ┆ salaried   │\n",
       "│ 26  ┆ 0      ┆ 25.6   ┆ 3        ┆ … ┆ South America ┆ 18855.9     ┆ yes            ┆ salaried   │\n",
       "└─────┴────────┴────────┴──────────┴───┴───────────────┴─────────────┴────────────────┴────────────┘"
      ]
     },
     "execution_count": 66,
     "metadata": {},
     "output_type": "execute_result"
    }
   ],
   "source": [
    "le = LabelEncoder()\n",
    "df = df.with_columns(pl.Series(\"gender\", le.fit_transform(df[\"gender\"].to_list())))\n",
    "df"
   ]
  },
  {
   "cell_type": "code",
   "execution_count": 67,
   "metadata": {},
   "outputs": [],
   "source": [
    "df = df.with_columns(pl.Series(\"smoker\", le.fit_transform(df[\"smoker\"].to_list())))"
   ]
  },
  {
   "cell_type": "code",
   "execution_count": 68,
   "metadata": {},
   "outputs": [],
   "source": [
    "df = df.with_columns(pl.Series(\"region\", le.fit_transform(df[\"region\"].to_list())))"
   ]
  },
  {
   "cell_type": "code",
   "execution_count": 69,
   "metadata": {},
   "outputs": [],
   "source": [
    "df = df.with_columns(pl.Series(\"heart_disease_history\", le.fit_transform(df[\"heart_disease_history\"].to_list())))\n"
   ]
  },
  {
   "cell_type": "markdown",
   "metadata": {},
   "source": [
    "## Model Creation"
   ]
  },
  {
   "cell_type": "code",
   "execution_count": 70,
   "metadata": {},
   "outputs": [],
   "source": [
    "df = df.with_columns(pl.Series(\"occupation\", le.fit_transform(df[\"occupation\"].to_list())))"
   ]
  },
  {
   "cell_type": "code",
   "execution_count": 71,
   "metadata": {},
   "outputs": [],
   "source": [
    "\n",
    "X = df.drop(\"charges\").to_numpy()\n",
    "y = df[\"charges\"].to_numpy() \n",
    "\n",
    "X_train, X_test, y_train, y_test = train_test_split(X, y, test_size=0.2, random_state=42)\n",
    "scaler = StandardScaler()\n",
    "X_train_scaled = scaler.fit_transform(X_train)\n",
    "X_test_scaled = scaler.transform(X_test)"
   ]
  },
  {
   "cell_type": "code",
   "execution_count": null,
   "metadata": {},
   "outputs": [],
   "source": [
    "from sklearn.model_selection import GridSearchCV\n",
    "from sklearn.ensemble import RandomForestRegressor\n",
    "from sklearn.metrics import mean_absolute_error, mean_squared_error, r2_score\n",
    "\n",
    "# Define the parameter grid\n",
    "param_grid = {\n",
    "    \"n_estimators\": [100, 200, 300],\n",
    "    \"max_depth\": [None, 10, 20, 30],\n",
    "    \"min_samples_split\": [2, 5, 10],\n",
    "}\n",
    "\n",
    "# Initialize the model\n",
    "rf_model = RandomForestRegressor(random_state=42)\n",
    "\n",
    "# Perform grid search with cross-validation\n",
    "grid_search = GridSearchCV(\n",
    "    estimator=rf_model, param_grid=param_grid, cv=5, scoring=\"neg_mean_squared_error\"\n",
    ")\n",
    "\n",
    "# Fit the grid search model\n",
    "grid_search.fit(X_train, y_train)\n",
    "\n",
    "# Get the best parameters and the best model\n",
    "best_params = grid_search.best_params_\n",
    "best_model = grid_search.best_estimator_\n",
    "\n",
    "print(f\"Best Parameters: {best_params}\")\n",
    "\n",
    "# Predict using the best model\n",
    "y_pred_best = best_model.predict(X_test)\n",
    "\n",
    "# Evaluate the best model\n",
    "mse_best = mean_squared_error(y_test, y_pred_best)\n",
    "mae_best = mean_absolute_error(y_test, y_pred_best)\n",
    "r2_best = r2_score(y_test, y_pred_best)\n",
    "\n",
    "print(f\"Best Random Forest MSE: {mse_best}\")\n",
    "print(f\"Best Random Forest MAE: {mae_best}\")\n",
    "print(f\"Best Random Forest R²: {r2_best}\")"
   ]
  },
  {
   "cell_type": "code",
   "execution_count": 46,
   "metadata": {},
   "outputs": [],
   "source": [
    "import pickle\n",
    "\n",
    "\n",
    "with open(\"rf_model.pkl\", \"wb\") as f:\n",
    "    pickle.dump(best_model, f)"
   ]
  },
  {
   "cell_type": "code",
   "execution_count": null,
   "metadata": {},
   "outputs": [],
   "source": []
  }
 ],
 "metadata": {
  "kernelspec": {
   "display_name": "mip-0Pm6OJve-py3.12",
   "language": "python",
   "name": "python3"
  },
  "language_info": {
   "codemirror_mode": {
    "name": "ipython",
    "version": 3
   },
   "file_extension": ".py",
   "mimetype": "text/x-python",
   "name": "python",
   "nbconvert_exporter": "python",
   "pygments_lexer": "ipython3",
   "version": "3.12.3"
  }
 },
 "nbformat": 4,
 "nbformat_minor": 2
}
