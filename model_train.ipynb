{
 "cells": [
  {
   "cell_type": "code",
   "execution_count": 48,
   "metadata": {},
   "outputs": [],
   "source": [
    "# imports\n",
    "import numpy as np\n",
    "import polars as pl\n",
    "import seaborn as sns\n",
    "import matplotlib.pyplot as plt\n",
    "%matplotlib inline\n",
    "from sklearn.model_selection import train_test_split\n",
    "from sklearn.metrics import accuracy_score\n",
    "from sklearn.preprocessing import LabelEncoder, StandardScaler"
   ]
  },
  {
   "cell_type": "code",
   "execution_count": 3,
   "metadata": {},
   "outputs": [
    {
     "data": {
      "text/html": [
       "<div><style>\n",
       ".dataframe > thead > tr,\n",
       ".dataframe > tbody > tr {\n",
       "  text-align: right;\n",
       "  white-space: pre-wrap;\n",
       "}\n",
       "</style>\n",
       "<small>shape: (5, 7)</small><table border=\"1\" class=\"dataframe\"><thead><tr><th>age</th><th>sex</th><th>bmi</th><th>children</th><th>smoker</th><th>region</th><th>charges</th></tr><tr><td>i64</td><td>str</td><td>f64</td><td>i64</td><td>str</td><td>str</td><td>f64</td></tr></thead><tbody><tr><td>19</td><td>&quot;female&quot;</td><td>27.9</td><td>0</td><td>&quot;yes&quot;</td><td>&quot;southwest&quot;</td><td>16884.924</td></tr><tr><td>18</td><td>&quot;male&quot;</td><td>33.77</td><td>1</td><td>&quot;no&quot;</td><td>&quot;southeast&quot;</td><td>1725.5523</td></tr><tr><td>28</td><td>&quot;male&quot;</td><td>33.0</td><td>3</td><td>&quot;no&quot;</td><td>&quot;southeast&quot;</td><td>4449.462</td></tr><tr><td>33</td><td>&quot;male&quot;</td><td>22.705</td><td>0</td><td>&quot;no&quot;</td><td>&quot;northwest&quot;</td><td>21984.47061</td></tr><tr><td>32</td><td>&quot;male&quot;</td><td>28.88</td><td>0</td><td>&quot;no&quot;</td><td>&quot;northwest&quot;</td><td>3866.8552</td></tr></tbody></table></div>"
      ],
      "text/plain": [
       "shape: (5, 7)\n",
       "┌─────┬────────┬────────┬──────────┬────────┬───────────┬─────────────┐\n",
       "│ age ┆ sex    ┆ bmi    ┆ children ┆ smoker ┆ region    ┆ charges     │\n",
       "│ --- ┆ ---    ┆ ---    ┆ ---      ┆ ---    ┆ ---       ┆ ---         │\n",
       "│ i64 ┆ str    ┆ f64    ┆ i64      ┆ str    ┆ str       ┆ f64         │\n",
       "╞═════╪════════╪════════╪══════════╪════════╪═══════════╪═════════════╡\n",
       "│ 19  ┆ female ┆ 27.9   ┆ 0        ┆ yes    ┆ southwest ┆ 16884.924   │\n",
       "│ 18  ┆ male   ┆ 33.77  ┆ 1        ┆ no     ┆ southeast ┆ 1725.5523   │\n",
       "│ 28  ┆ male   ┆ 33.0   ┆ 3        ┆ no     ┆ southeast ┆ 4449.462    │\n",
       "│ 33  ┆ male   ┆ 22.705 ┆ 0        ┆ no     ┆ northwest ┆ 21984.47061 │\n",
       "│ 32  ┆ male   ┆ 28.88  ┆ 0        ┆ no     ┆ northwest ┆ 3866.8552   │\n",
       "└─────┴────────┴────────┴──────────┴────────┴───────────┴─────────────┘"
      ]
     },
     "execution_count": 3,
     "metadata": {},
     "output_type": "execute_result"
    }
   ],
   "source": [
    "df = pl.read_csv('insurance.csv')\n",
    "df.head(5)"
   ]
  },
  {
   "cell_type": "code",
   "execution_count": 9,
   "metadata": {},
   "outputs": [
    {
     "data": {
      "text/html": [
       "<div><style>\n",
       ".dataframe > thead > tr,\n",
       ".dataframe > tbody > tr {\n",
       "  text-align: right;\n",
       "  white-space: pre-wrap;\n",
       "}\n",
       "</style>\n",
       "<small>shape: (1_338, 7)</small><table border=\"1\" class=\"dataframe\"><thead><tr><th>age</th><th>sex</th><th>bmi</th><th>children</th><th>smoker</th><th>region</th><th>charges</th></tr><tr><td>i64</td><td>str</td><td>f64</td><td>i64</td><td>str</td><td>str</td><td>f64</td></tr></thead><tbody><tr><td>19</td><td>&quot;female&quot;</td><td>27.9</td><td>0</td><td>&quot;yes&quot;</td><td>&quot;southwest&quot;</td><td>16884.924</td></tr><tr><td>18</td><td>&quot;male&quot;</td><td>33.77</td><td>1</td><td>&quot;no&quot;</td><td>&quot;southeast&quot;</td><td>1725.5523</td></tr><tr><td>28</td><td>&quot;male&quot;</td><td>33.0</td><td>3</td><td>&quot;no&quot;</td><td>&quot;southeast&quot;</td><td>4449.462</td></tr><tr><td>33</td><td>&quot;male&quot;</td><td>22.705</td><td>0</td><td>&quot;no&quot;</td><td>&quot;northwest&quot;</td><td>21984.47061</td></tr><tr><td>32</td><td>&quot;male&quot;</td><td>28.88</td><td>0</td><td>&quot;no&quot;</td><td>&quot;northwest&quot;</td><td>3866.8552</td></tr><tr><td>&hellip;</td><td>&hellip;</td><td>&hellip;</td><td>&hellip;</td><td>&hellip;</td><td>&hellip;</td><td>&hellip;</td></tr><tr><td>50</td><td>&quot;male&quot;</td><td>30.97</td><td>3</td><td>&quot;no&quot;</td><td>&quot;northwest&quot;</td><td>10600.5483</td></tr><tr><td>18</td><td>&quot;female&quot;</td><td>31.92</td><td>0</td><td>&quot;no&quot;</td><td>&quot;northeast&quot;</td><td>2205.9808</td></tr><tr><td>18</td><td>&quot;female&quot;</td><td>36.85</td><td>0</td><td>&quot;no&quot;</td><td>&quot;southeast&quot;</td><td>1629.8335</td></tr><tr><td>21</td><td>&quot;female&quot;</td><td>25.8</td><td>0</td><td>&quot;no&quot;</td><td>&quot;southwest&quot;</td><td>2007.945</td></tr><tr><td>61</td><td>&quot;female&quot;</td><td>29.07</td><td>0</td><td>&quot;yes&quot;</td><td>&quot;northwest&quot;</td><td>29141.3603</td></tr></tbody></table></div>"
      ],
      "text/plain": [
       "shape: (1_338, 7)\n",
       "┌─────┬────────┬────────┬──────────┬────────┬───────────┬─────────────┐\n",
       "│ age ┆ sex    ┆ bmi    ┆ children ┆ smoker ┆ region    ┆ charges     │\n",
       "│ --- ┆ ---    ┆ ---    ┆ ---      ┆ ---    ┆ ---       ┆ ---         │\n",
       "│ i64 ┆ str    ┆ f64    ┆ i64      ┆ str    ┆ str       ┆ f64         │\n",
       "╞═════╪════════╪════════╪══════════╪════════╪═══════════╪═════════════╡\n",
       "│ 19  ┆ female ┆ 27.9   ┆ 0        ┆ yes    ┆ southwest ┆ 16884.924   │\n",
       "│ 18  ┆ male   ┆ 33.77  ┆ 1        ┆ no     ┆ southeast ┆ 1725.5523   │\n",
       "│ 28  ┆ male   ┆ 33.0   ┆ 3        ┆ no     ┆ southeast ┆ 4449.462    │\n",
       "│ 33  ┆ male   ┆ 22.705 ┆ 0        ┆ no     ┆ northwest ┆ 21984.47061 │\n",
       "│ 32  ┆ male   ┆ 28.88  ┆ 0        ┆ no     ┆ northwest ┆ 3866.8552   │\n",
       "│ …   ┆ …      ┆ …      ┆ …        ┆ …      ┆ …         ┆ …           │\n",
       "│ 50  ┆ male   ┆ 30.97  ┆ 3        ┆ no     ┆ northwest ┆ 10600.5483  │\n",
       "│ 18  ┆ female ┆ 31.92  ┆ 0        ┆ no     ┆ northeast ┆ 2205.9808   │\n",
       "│ 18  ┆ female ┆ 36.85  ┆ 0        ┆ no     ┆ southeast ┆ 1629.8335   │\n",
       "│ 21  ┆ female ┆ 25.8   ┆ 0        ┆ no     ┆ southwest ┆ 2007.945    │\n",
       "│ 61  ┆ female ┆ 29.07  ┆ 0        ┆ yes    ┆ northwest ┆ 29141.3603  │\n",
       "└─────┴────────┴────────┴──────────┴────────┴───────────┴─────────────┘"
      ]
     },
     "execution_count": 9,
     "metadata": {},
     "output_type": "execute_result"
    }
   ],
   "source": [
    "df"
   ]
  },
  {
   "cell_type": "code",
   "execution_count": 20,
   "metadata": {},
   "outputs": [
    {
     "data": {
      "text/html": [
       "<div><style>\n",
       ".dataframe > thead > tr,\n",
       ".dataframe > tbody > tr {\n",
       "  text-align: right;\n",
       "  white-space: pre-wrap;\n",
       "}\n",
       "</style>\n",
       "<small>shape: (1_338, 7)</small><table border=\"1\" class=\"dataframe\"><thead><tr><th>age</th><th>sex</th><th>bmi</th><th>children</th><th>smoker</th><th>region</th><th>charges</th></tr><tr><td>i64</td><td>str</td><td>f64</td><td>i64</td><td>str</td><td>str</td><td>f64</td></tr></thead><tbody><tr><td>19</td><td>&quot;female&quot;</td><td>27.9</td><td>0</td><td>&quot;yes&quot;</td><td>&quot;southwest&quot;</td><td>16884.924</td></tr><tr><td>18</td><td>&quot;male&quot;</td><td>33.77</td><td>1</td><td>&quot;no&quot;</td><td>&quot;southeast&quot;</td><td>1725.5523</td></tr><tr><td>28</td><td>&quot;male&quot;</td><td>33.0</td><td>3</td><td>&quot;no&quot;</td><td>&quot;southeast&quot;</td><td>4449.462</td></tr><tr><td>33</td><td>&quot;male&quot;</td><td>22.705</td><td>0</td><td>&quot;no&quot;</td><td>&quot;northwest&quot;</td><td>21984.47061</td></tr><tr><td>32</td><td>&quot;male&quot;</td><td>28.88</td><td>0</td><td>&quot;no&quot;</td><td>&quot;northwest&quot;</td><td>3866.8552</td></tr><tr><td>&hellip;</td><td>&hellip;</td><td>&hellip;</td><td>&hellip;</td><td>&hellip;</td><td>&hellip;</td><td>&hellip;</td></tr><tr><td>50</td><td>&quot;male&quot;</td><td>30.97</td><td>3</td><td>&quot;no&quot;</td><td>&quot;northwest&quot;</td><td>10600.5483</td></tr><tr><td>18</td><td>&quot;female&quot;</td><td>31.92</td><td>0</td><td>&quot;no&quot;</td><td>&quot;northeast&quot;</td><td>2205.9808</td></tr><tr><td>18</td><td>&quot;female&quot;</td><td>36.85</td><td>0</td><td>&quot;no&quot;</td><td>&quot;southeast&quot;</td><td>1629.8335</td></tr><tr><td>21</td><td>&quot;female&quot;</td><td>25.8</td><td>0</td><td>&quot;no&quot;</td><td>&quot;southwest&quot;</td><td>2007.945</td></tr><tr><td>61</td><td>&quot;female&quot;</td><td>29.07</td><td>0</td><td>&quot;yes&quot;</td><td>&quot;northwest&quot;</td><td>29141.3603</td></tr></tbody></table></div>"
      ],
      "text/plain": [
       "shape: (1_338, 7)\n",
       "┌─────┬────────┬────────┬──────────┬────────┬───────────┬─────────────┐\n",
       "│ age ┆ sex    ┆ bmi    ┆ children ┆ smoker ┆ region    ┆ charges     │\n",
       "│ --- ┆ ---    ┆ ---    ┆ ---      ┆ ---    ┆ ---       ┆ ---         │\n",
       "│ i64 ┆ str    ┆ f64    ┆ i64      ┆ str    ┆ str       ┆ f64         │\n",
       "╞═════╪════════╪════════╪══════════╪════════╪═══════════╪═════════════╡\n",
       "│ 19  ┆ female ┆ 27.9   ┆ 0        ┆ yes    ┆ southwest ┆ 16884.924   │\n",
       "│ 18  ┆ male   ┆ 33.77  ┆ 1        ┆ no     ┆ southeast ┆ 1725.5523   │\n",
       "│ 28  ┆ male   ┆ 33.0   ┆ 3        ┆ no     ┆ southeast ┆ 4449.462    │\n",
       "│ 33  ┆ male   ┆ 22.705 ┆ 0        ┆ no     ┆ northwest ┆ 21984.47061 │\n",
       "│ 32  ┆ male   ┆ 28.88  ┆ 0        ┆ no     ┆ northwest ┆ 3866.8552   │\n",
       "│ …   ┆ …      ┆ …      ┆ …        ┆ …      ┆ …         ┆ …           │\n",
       "│ 50  ┆ male   ┆ 30.97  ┆ 3        ┆ no     ┆ northwest ┆ 10600.5483  │\n",
       "│ 18  ┆ female ┆ 31.92  ┆ 0        ┆ no     ┆ northeast ┆ 2205.9808   │\n",
       "│ 18  ┆ female ┆ 36.85  ┆ 0        ┆ no     ┆ southeast ┆ 1629.8335   │\n",
       "│ 21  ┆ female ┆ 25.8   ┆ 0        ┆ no     ┆ southwest ┆ 2007.945    │\n",
       "│ 61  ┆ female ┆ 29.07  ┆ 0        ┆ yes    ┆ northwest ┆ 29141.3603  │\n",
       "└─────┴────────┴────────┴──────────┴────────┴───────────┴─────────────┘"
      ]
     },
     "execution_count": 20,
     "metadata": {},
     "output_type": "execute_result"
    }
   ],
   "source": [
    "# checking for null values\n",
    "df.drop_nulls()"
   ]
  },
  {
   "cell_type": "code",
   "execution_count": 32,
   "metadata": {},
   "outputs": [],
   "source": [
    "df = df.rename({\"sex\": \"gender\"})"
   ]
  },
  {
   "cell_type": "code",
   "execution_count": 33,
   "metadata": {},
   "outputs": [
    {
     "data": {
      "text/html": [
       "<div><style>\n",
       ".dataframe > thead > tr,\n",
       ".dataframe > tbody > tr {\n",
       "  text-align: right;\n",
       "  white-space: pre-wrap;\n",
       "}\n",
       "</style>\n",
       "<small>shape: (0, 7)</small><table border=\"1\" class=\"dataframe\"><thead><tr><th>age</th><th>gender</th><th>bmi</th><th>children</th><th>smoker</th><th>region</th><th>charges</th></tr><tr><td>i64</td><td>str</td><td>f64</td><td>i64</td><td>str</td><td>str</td><td>f64</td></tr></thead><tbody></tbody></table></div>"
      ],
      "text/plain": [
       "shape: (0, 7)\n",
       "┌─────┬────────┬─────┬──────────┬────────┬────────┬─────────┐\n",
       "│ age ┆ gender ┆ bmi ┆ children ┆ smoker ┆ region ┆ charges │\n",
       "│ --- ┆ ---    ┆ --- ┆ ---      ┆ ---    ┆ ---    ┆ ---     │\n",
       "│ i64 ┆ str    ┆ f64 ┆ i64      ┆ str    ┆ str    ┆ f64     │\n",
       "╞═════╪════════╪═════╪══════════╪════════╪════════╪═════════╡\n",
       "└─────┴────────┴─────┴──────────┴────────┴────────┴─────────┘"
      ]
     },
     "execution_count": 33,
     "metadata": {},
     "output_type": "execute_result"
    }
   ],
   "source": [
    "df.filter(df.is_duplicated())"
   ]
  },
  {
   "cell_type": "code",
   "execution_count": 34,
   "metadata": {},
   "outputs": [],
   "source": [
    "df = df.filter(df.is_unique())"
   ]
  },
  {
   "cell_type": "code",
   "execution_count": 35,
   "metadata": {},
   "outputs": [
    {
     "data": {
      "text/html": [
       "<div><style>\n",
       ".dataframe > thead > tr,\n",
       ".dataframe > tbody > tr {\n",
       "  text-align: right;\n",
       "  white-space: pre-wrap;\n",
       "}\n",
       "</style>\n",
       "<small>shape: (1_336, 7)</small><table border=\"1\" class=\"dataframe\"><thead><tr><th>age</th><th>gender</th><th>bmi</th><th>children</th><th>smoker</th><th>region</th><th>charges</th></tr><tr><td>i64</td><td>str</td><td>f64</td><td>i64</td><td>str</td><td>str</td><td>f64</td></tr></thead><tbody><tr><td>19</td><td>&quot;female&quot;</td><td>27.9</td><td>0</td><td>&quot;yes&quot;</td><td>&quot;southwest&quot;</td><td>16884.924</td></tr><tr><td>18</td><td>&quot;male&quot;</td><td>33.77</td><td>1</td><td>&quot;no&quot;</td><td>&quot;southeast&quot;</td><td>1725.5523</td></tr><tr><td>28</td><td>&quot;male&quot;</td><td>33.0</td><td>3</td><td>&quot;no&quot;</td><td>&quot;southeast&quot;</td><td>4449.462</td></tr><tr><td>33</td><td>&quot;male&quot;</td><td>22.705</td><td>0</td><td>&quot;no&quot;</td><td>&quot;northwest&quot;</td><td>21984.47061</td></tr><tr><td>32</td><td>&quot;male&quot;</td><td>28.88</td><td>0</td><td>&quot;no&quot;</td><td>&quot;northwest&quot;</td><td>3866.8552</td></tr><tr><td>&hellip;</td><td>&hellip;</td><td>&hellip;</td><td>&hellip;</td><td>&hellip;</td><td>&hellip;</td><td>&hellip;</td></tr><tr><td>50</td><td>&quot;male&quot;</td><td>30.97</td><td>3</td><td>&quot;no&quot;</td><td>&quot;northwest&quot;</td><td>10600.5483</td></tr><tr><td>18</td><td>&quot;female&quot;</td><td>31.92</td><td>0</td><td>&quot;no&quot;</td><td>&quot;northeast&quot;</td><td>2205.9808</td></tr><tr><td>18</td><td>&quot;female&quot;</td><td>36.85</td><td>0</td><td>&quot;no&quot;</td><td>&quot;southeast&quot;</td><td>1629.8335</td></tr><tr><td>21</td><td>&quot;female&quot;</td><td>25.8</td><td>0</td><td>&quot;no&quot;</td><td>&quot;southwest&quot;</td><td>2007.945</td></tr><tr><td>61</td><td>&quot;female&quot;</td><td>29.07</td><td>0</td><td>&quot;yes&quot;</td><td>&quot;northwest&quot;</td><td>29141.3603</td></tr></tbody></table></div>"
      ],
      "text/plain": [
       "shape: (1_336, 7)\n",
       "┌─────┬────────┬────────┬──────────┬────────┬───────────┬─────────────┐\n",
       "│ age ┆ gender ┆ bmi    ┆ children ┆ smoker ┆ region    ┆ charges     │\n",
       "│ --- ┆ ---    ┆ ---    ┆ ---      ┆ ---    ┆ ---       ┆ ---         │\n",
       "│ i64 ┆ str    ┆ f64    ┆ i64      ┆ str    ┆ str       ┆ f64         │\n",
       "╞═════╪════════╪════════╪══════════╪════════╪═══════════╪═════════════╡\n",
       "│ 19  ┆ female ┆ 27.9   ┆ 0        ┆ yes    ┆ southwest ┆ 16884.924   │\n",
       "│ 18  ┆ male   ┆ 33.77  ┆ 1        ┆ no     ┆ southeast ┆ 1725.5523   │\n",
       "│ 28  ┆ male   ┆ 33.0   ┆ 3        ┆ no     ┆ southeast ┆ 4449.462    │\n",
       "│ 33  ┆ male   ┆ 22.705 ┆ 0        ┆ no     ┆ northwest ┆ 21984.47061 │\n",
       "│ 32  ┆ male   ┆ 28.88  ┆ 0        ┆ no     ┆ northwest ┆ 3866.8552   │\n",
       "│ …   ┆ …      ┆ …      ┆ …        ┆ …      ┆ …         ┆ …           │\n",
       "│ 50  ┆ male   ┆ 30.97  ┆ 3        ┆ no     ┆ northwest ┆ 10600.5483  │\n",
       "│ 18  ┆ female ┆ 31.92  ┆ 0        ┆ no     ┆ northeast ┆ 2205.9808   │\n",
       "│ 18  ┆ female ┆ 36.85  ┆ 0        ┆ no     ┆ southeast ┆ 1629.8335   │\n",
       "│ 21  ┆ female ┆ 25.8   ┆ 0        ┆ no     ┆ southwest ┆ 2007.945    │\n",
       "│ 61  ┆ female ┆ 29.07  ┆ 0        ┆ yes    ┆ northwest ┆ 29141.3603  │\n",
       "└─────┴────────┴────────┴──────────┴────────┴───────────┴─────────────┘"
      ]
     },
     "execution_count": 35,
     "metadata": {},
     "output_type": "execute_result"
    }
   ],
   "source": [
    "df"
   ]
  },
  {
   "cell_type": "code",
   "execution_count": 39,
   "metadata": {},
   "outputs": [
    {
     "data": {
      "text/plain": [
       "False"
      ]
     },
     "execution_count": 39,
     "metadata": {},
     "output_type": "execute_result"
    }
   ],
   "source": [
    "df.is_duplicated().any()"
   ]
  },
  {
   "cell_type": "code",
   "execution_count": 42,
   "metadata": {},
   "outputs": [
    {
     "data": {
      "text/html": [
       "<div><style>\n",
       ".dataframe > thead > tr,\n",
       ".dataframe > tbody > tr {\n",
       "  text-align: right;\n",
       "  white-space: pre-wrap;\n",
       "}\n",
       "</style>\n",
       "<small>shape: (1_336, 7)</small><table border=\"1\" class=\"dataframe\"><thead><tr><th>age</th><th>gender</th><th>bmi</th><th>children</th><th>smoker</th><th>region</th><th>charges</th></tr><tr><td>i64</td><td>i64</td><td>f64</td><td>i64</td><td>str</td><td>str</td><td>f64</td></tr></thead><tbody><tr><td>19</td><td>0</td><td>27.9</td><td>0</td><td>&quot;yes&quot;</td><td>&quot;southwest&quot;</td><td>16884.924</td></tr><tr><td>18</td><td>1</td><td>33.77</td><td>1</td><td>&quot;no&quot;</td><td>&quot;southeast&quot;</td><td>1725.5523</td></tr><tr><td>28</td><td>1</td><td>33.0</td><td>3</td><td>&quot;no&quot;</td><td>&quot;southeast&quot;</td><td>4449.462</td></tr><tr><td>33</td><td>1</td><td>22.705</td><td>0</td><td>&quot;no&quot;</td><td>&quot;northwest&quot;</td><td>21984.47061</td></tr><tr><td>32</td><td>1</td><td>28.88</td><td>0</td><td>&quot;no&quot;</td><td>&quot;northwest&quot;</td><td>3866.8552</td></tr><tr><td>&hellip;</td><td>&hellip;</td><td>&hellip;</td><td>&hellip;</td><td>&hellip;</td><td>&hellip;</td><td>&hellip;</td></tr><tr><td>50</td><td>1</td><td>30.97</td><td>3</td><td>&quot;no&quot;</td><td>&quot;northwest&quot;</td><td>10600.5483</td></tr><tr><td>18</td><td>0</td><td>31.92</td><td>0</td><td>&quot;no&quot;</td><td>&quot;northeast&quot;</td><td>2205.9808</td></tr><tr><td>18</td><td>0</td><td>36.85</td><td>0</td><td>&quot;no&quot;</td><td>&quot;southeast&quot;</td><td>1629.8335</td></tr><tr><td>21</td><td>0</td><td>25.8</td><td>0</td><td>&quot;no&quot;</td><td>&quot;southwest&quot;</td><td>2007.945</td></tr><tr><td>61</td><td>0</td><td>29.07</td><td>0</td><td>&quot;yes&quot;</td><td>&quot;northwest&quot;</td><td>29141.3603</td></tr></tbody></table></div>"
      ],
      "text/plain": [
       "shape: (1_336, 7)\n",
       "┌─────┬────────┬────────┬──────────┬────────┬───────────┬─────────────┐\n",
       "│ age ┆ gender ┆ bmi    ┆ children ┆ smoker ┆ region    ┆ charges     │\n",
       "│ --- ┆ ---    ┆ ---    ┆ ---      ┆ ---    ┆ ---       ┆ ---         │\n",
       "│ i64 ┆ i64    ┆ f64    ┆ i64      ┆ str    ┆ str       ┆ f64         │\n",
       "╞═════╪════════╪════════╪══════════╪════════╪═══════════╪═════════════╡\n",
       "│ 19  ┆ 0      ┆ 27.9   ┆ 0        ┆ yes    ┆ southwest ┆ 16884.924   │\n",
       "│ 18  ┆ 1      ┆ 33.77  ┆ 1        ┆ no     ┆ southeast ┆ 1725.5523   │\n",
       "│ 28  ┆ 1      ┆ 33.0   ┆ 3        ┆ no     ┆ southeast ┆ 4449.462    │\n",
       "│ 33  ┆ 1      ┆ 22.705 ┆ 0        ┆ no     ┆ northwest ┆ 21984.47061 │\n",
       "│ 32  ┆ 1      ┆ 28.88  ┆ 0        ┆ no     ┆ northwest ┆ 3866.8552   │\n",
       "│ …   ┆ …      ┆ …      ┆ …        ┆ …      ┆ …         ┆ …           │\n",
       "│ 50  ┆ 1      ┆ 30.97  ┆ 3        ┆ no     ┆ northwest ┆ 10600.5483  │\n",
       "│ 18  ┆ 0      ┆ 31.92  ┆ 0        ┆ no     ┆ northeast ┆ 2205.9808   │\n",
       "│ 18  ┆ 0      ┆ 36.85  ┆ 0        ┆ no     ┆ southeast ┆ 1629.8335   │\n",
       "│ 21  ┆ 0      ┆ 25.8   ┆ 0        ┆ no     ┆ southwest ┆ 2007.945    │\n",
       "│ 61  ┆ 0      ┆ 29.07  ┆ 0        ┆ yes    ┆ northwest ┆ 29141.3603  │\n",
       "└─────┴────────┴────────┴──────────┴────────┴───────────┴─────────────┘"
      ]
     },
     "execution_count": 42,
     "metadata": {},
     "output_type": "execute_result"
    }
   ],
   "source": [
    "le = LabelEncoder()\n",
    "df = df.with_columns(pl.Series(\"gender\", le.fit_transform(df[\"gender\"].to_list())))\n",
    "df"
   ]
  },
  {
   "cell_type": "code",
   "execution_count": 43,
   "metadata": {},
   "outputs": [],
   "source": [
    "df = df.with_columns(pl.Series(\"smoker\", le.fit_transform(df[\"smoker\"].to_list())))"
   ]
  },
  {
   "cell_type": "code",
   "execution_count": 45,
   "metadata": {},
   "outputs": [],
   "source": [
    "df = df.with_columns(pl.Series(\"region\", le.fit_transform(df[\"region\"].to_list())))"
   ]
  },
  {
   "cell_type": "code",
   "execution_count": 46,
   "metadata": {},
   "outputs": [
    {
     "data": {
      "text/html": [
       "<div><style>\n",
       ".dataframe > thead > tr,\n",
       ".dataframe > tbody > tr {\n",
       "  text-align: right;\n",
       "  white-space: pre-wrap;\n",
       "}\n",
       "</style>\n",
       "<small>shape: (1_336, 7)</small><table border=\"1\" class=\"dataframe\"><thead><tr><th>age</th><th>gender</th><th>bmi</th><th>children</th><th>smoker</th><th>region</th><th>charges</th></tr><tr><td>i64</td><td>i64</td><td>f64</td><td>i64</td><td>i64</td><td>i64</td><td>f64</td></tr></thead><tbody><tr><td>19</td><td>0</td><td>27.9</td><td>0</td><td>1</td><td>3</td><td>16884.924</td></tr><tr><td>18</td><td>1</td><td>33.77</td><td>1</td><td>0</td><td>2</td><td>1725.5523</td></tr><tr><td>28</td><td>1</td><td>33.0</td><td>3</td><td>0</td><td>2</td><td>4449.462</td></tr><tr><td>33</td><td>1</td><td>22.705</td><td>0</td><td>0</td><td>1</td><td>21984.47061</td></tr><tr><td>32</td><td>1</td><td>28.88</td><td>0</td><td>0</td><td>1</td><td>3866.8552</td></tr><tr><td>&hellip;</td><td>&hellip;</td><td>&hellip;</td><td>&hellip;</td><td>&hellip;</td><td>&hellip;</td><td>&hellip;</td></tr><tr><td>50</td><td>1</td><td>30.97</td><td>3</td><td>0</td><td>1</td><td>10600.5483</td></tr><tr><td>18</td><td>0</td><td>31.92</td><td>0</td><td>0</td><td>0</td><td>2205.9808</td></tr><tr><td>18</td><td>0</td><td>36.85</td><td>0</td><td>0</td><td>2</td><td>1629.8335</td></tr><tr><td>21</td><td>0</td><td>25.8</td><td>0</td><td>0</td><td>3</td><td>2007.945</td></tr><tr><td>61</td><td>0</td><td>29.07</td><td>0</td><td>1</td><td>1</td><td>29141.3603</td></tr></tbody></table></div>"
      ],
      "text/plain": [
       "shape: (1_336, 7)\n",
       "┌─────┬────────┬────────┬──────────┬────────┬────────┬─────────────┐\n",
       "│ age ┆ gender ┆ bmi    ┆ children ┆ smoker ┆ region ┆ charges     │\n",
       "│ --- ┆ ---    ┆ ---    ┆ ---      ┆ ---    ┆ ---    ┆ ---         │\n",
       "│ i64 ┆ i64    ┆ f64    ┆ i64      ┆ i64    ┆ i64    ┆ f64         │\n",
       "╞═════╪════════╪════════╪══════════╪════════╪════════╪═════════════╡\n",
       "│ 19  ┆ 0      ┆ 27.9   ┆ 0        ┆ 1      ┆ 3      ┆ 16884.924   │\n",
       "│ 18  ┆ 1      ┆ 33.77  ┆ 1        ┆ 0      ┆ 2      ┆ 1725.5523   │\n",
       "│ 28  ┆ 1      ┆ 33.0   ┆ 3        ┆ 0      ┆ 2      ┆ 4449.462    │\n",
       "│ 33  ┆ 1      ┆ 22.705 ┆ 0        ┆ 0      ┆ 1      ┆ 21984.47061 │\n",
       "│ 32  ┆ 1      ┆ 28.88  ┆ 0        ┆ 0      ┆ 1      ┆ 3866.8552   │\n",
       "│ …   ┆ …      ┆ …      ┆ …        ┆ …      ┆ …      ┆ …           │\n",
       "│ 50  ┆ 1      ┆ 30.97  ┆ 3        ┆ 0      ┆ 1      ┆ 10600.5483  │\n",
       "│ 18  ┆ 0      ┆ 31.92  ┆ 0        ┆ 0      ┆ 0      ┆ 2205.9808   │\n",
       "│ 18  ┆ 0      ┆ 36.85  ┆ 0        ┆ 0      ┆ 2      ┆ 1629.8335   │\n",
       "│ 21  ┆ 0      ┆ 25.8   ┆ 0        ┆ 0      ┆ 3      ┆ 2007.945    │\n",
       "│ 61  ┆ 0      ┆ 29.07  ┆ 0        ┆ 1      ┆ 1      ┆ 29141.3603  │\n",
       "└─────┴────────┴────────┴──────────┴────────┴────────┴─────────────┘"
      ]
     },
     "execution_count": 46,
     "metadata": {},
     "output_type": "execute_result"
    }
   ],
   "source": [
    "df"
   ]
  },
  {
   "cell_type": "markdown",
   "metadata": {},
   "source": [
    "## Model Creation"
   ]
  },
  {
   "cell_type": "code",
   "execution_count": 49,
   "metadata": {},
   "outputs": [],
   "source": [
    "\n",
    "X = df.drop(\"charges\").to_numpy()\n",
    "y = df[\"charges\"].to_numpy()\n",
    "\n",
    "X_train, X_test, y_train, y_test = train_test_split(X, y, test_size=0.2, random_state=42)\n",
    "scaler = StandardScaler()\n",
    "X_train_scaled = scaler.fit_transform(X_train)\n",
    "X_test_scaled = scaler.transform(X_test)"
   ]
  },
  {
   "cell_type": "code",
   "execution_count": 57,
   "metadata": {},
   "outputs": [
    {
     "name": "stdout",
     "output_type": "stream",
     "text": [
      "Best Parameters: {'max_depth': 10, 'min_samples_split': 10, 'n_estimators': 200}\n",
      "Best Random Forest MSE: 23370714.59795716\n",
      "Best Random Forest MAE: 2702.563916808688\n",
      "Best Random Forest R²: 0.8537894787120879\n"
     ]
    }
   ],
   "source": [
    "from sklearn.model_selection import GridSearchCV\n",
    "from sklearn.ensemble import RandomForestRegressor\n",
    "from sklearn.metrics import mean_absolute_error, mean_squared_error, r2_score\n",
    "\n",
    "# Define the parameter grid\n",
    "param_grid = {\n",
    "    \"n_estimators\": [100, 200, 300],\n",
    "    \"max_depth\": [None, 10, 20, 30],\n",
    "    \"min_samples_split\": [2, 5, 10],\n",
    "}\n",
    "\n",
    "# Initialize the model\n",
    "rf_model = RandomForestRegressor(random_state=42)\n",
    "\n",
    "# Perform grid search with cross-validation\n",
    "grid_search = GridSearchCV(\n",
    "    estimator=rf_model, param_grid=param_grid, cv=5, scoring=\"neg_mean_squared_error\"\n",
    ")\n",
    "\n",
    "# Fit the grid search model\n",
    "grid_search.fit(X_train, y_train)\n",
    "\n",
    "# Get the best parameters and the best model\n",
    "best_params = grid_search.best_params_\n",
    "best_model = grid_search.best_estimator_\n",
    "\n",
    "print(f\"Best Parameters: {best_params}\")\n",
    "\n",
    "# Predict using the best model\n",
    "y_pred_best = best_model.predict(X_test)\n",
    "\n",
    "# Evaluate the best model\n",
    "mse_best = mean_squared_error(y_test, y_pred_best)\n",
    "mae_best = mean_absolute_error(y_test, y_pred_best)\n",
    "r2_best = r2_score(y_test, y_pred_best)\n",
    "\n",
    "print(f\"Best Random Forest MSE: {mse_best}\")\n",
    "print(f\"Best Random Forest MAE: {mae_best}\")\n",
    "print(f\"Best Random Forest R²: {r2_best}\")"
   ]
  },
  {
   "cell_type": "code",
   "execution_count": 58,
   "metadata": {},
   "outputs": [],
   "source": [
    "import pickle\n",
    "\n",
    "\n",
    "with open(\"rf_model.pkl\", \"wb\") as f:\n",
    "    pickle.dump(best_model, f)"
   ]
  },
  {
   "cell_type": "code",
   "execution_count": null,
   "metadata": {},
   "outputs": [],
   "source": []
  }
 ],
 "metadata": {
  "kernelspec": {
   "display_name": "mip-0Pm6OJve-py3.12",
   "language": "python",
   "name": "python3"
  },
  "language_info": {
   "codemirror_mode": {
    "name": "ipython",
    "version": 3
   },
   "file_extension": ".py",
   "mimetype": "text/x-python",
   "name": "python",
   "nbconvert_exporter": "python",
   "pygments_lexer": "ipython3",
   "version": "3.12.3"
  }
 },
 "nbformat": 4,
 "nbformat_minor": 2
}
