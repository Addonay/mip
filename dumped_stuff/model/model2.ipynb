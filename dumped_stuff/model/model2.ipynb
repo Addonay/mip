{
 "cells": [
  {
   "cell_type": "code",
   "execution_count": 232,
   "metadata": {},
   "outputs": [],
   "source": [
    "import polars as pl\n",
    "import numpy as np\n",
    "from sklearn.model_selection import train_test_split\n",
    "from sklearn.preprocessing import LabelEncoder, StandardScaler\n",
    "from sklearn.model_selection import GridSearchCV\n",
    "from sklearn.ensemble import RandomForestRegressor\n",
    "from sklearn.metrics import mean_absolute_error, mean_squared_error, r2_score"
   ]
  },
  {
   "cell_type": "code",
   "execution_count": 233,
   "metadata": {},
   "outputs": [
    {
     "data": {
      "text/html": [
       "<div><style>\n",
       ".dataframe > thead > tr,\n",
       ".dataframe > tbody > tr {\n",
       "  text-align: right;\n",
       "  white-space: pre-wrap;\n",
       "}\n",
       "</style>\n",
       "<small>shape: (2_772, 9)</small><table border=\"1\" class=\"dataframe\"><thead><tr><th>age</th><th>sex</th><th>bmi</th><th>children</th><th>smoker</th><th>region</th><th>charges</th><th>heart_disease_history</th><th>occupation</th></tr><tr><td>i64</td><td>str</td><td>f64</td><td>i64</td><td>str</td><td>str</td><td>f64</td><td>str</td><td>str</td></tr></thead><tbody><tr><td>19</td><td>&quot;female&quot;</td><td>27.9</td><td>0</td><td>&quot;yes&quot;</td><td>&quot;Oceania&quot;</td><td>16884.924</td><td>&quot;no&quot;</td><td>&quot;unemployed&quot;</td></tr><tr><td>18</td><td>&quot;male&quot;</td><td>33.77</td><td>1</td><td>&quot;no&quot;</td><td>&quot;Asia&quot;</td><td>1725.5523</td><td>&quot;no&quot;</td><td>&quot;part-time&quot;</td></tr><tr><td>28</td><td>&quot;male&quot;</td><td>33.0</td><td>3</td><td>&quot;no&quot;</td><td>&quot;Oceania&quot;</td><td>4449.462</td><td>&quot;no&quot;</td><td>&quot;salaried&quot;</td></tr><tr><td>33</td><td>&quot;male&quot;</td><td>22.705</td><td>0</td><td>&quot;no&quot;</td><td>&quot;South America&quot;</td><td>21984.47061</td><td>&quot;no&quot;</td><td>&quot;salaried&quot;</td></tr><tr><td>32</td><td>&quot;male&quot;</td><td>28.88</td><td>0</td><td>&quot;no&quot;</td><td>&quot;Antarctica&quot;</td><td>3866.8552</td><td>&quot;yes&quot;</td><td>&quot;business&quot;</td></tr><tr><td>&hellip;</td><td>&hellip;</td><td>&hellip;</td><td>&hellip;</td><td>&hellip;</td><td>&hellip;</td><td>&hellip;</td><td>&hellip;</td><td>&hellip;</td></tr><tr><td>47</td><td>&quot;female&quot;</td><td>45.32</td><td>1</td><td>&quot;no&quot;</td><td>&quot;Asia&quot;</td><td>8569.8618</td><td>&quot;yes&quot;</td><td>&quot;salaried&quot;</td></tr><tr><td>21</td><td>&quot;female&quot;</td><td>34.6</td><td>0</td><td>&quot;no&quot;</td><td>&quot;Africa&quot;</td><td>2020.177</td><td>&quot;no&quot;</td><td>&quot;part-time&quot;</td></tr><tr><td>19</td><td>&quot;male&quot;</td><td>26.03</td><td>1</td><td>&quot;yes&quot;</td><td>&quot;Africa&quot;</td><td>16450.8947</td><td>&quot;no&quot;</td><td>&quot;unemployed&quot;</td></tr><tr><td>23</td><td>&quot;male&quot;</td><td>18.715</td><td>0</td><td>&quot;no&quot;</td><td>&quot;North America&quot;</td><td>21595.38229</td><td>&quot;no&quot;</td><td>&quot;unemployed&quot;</td></tr><tr><td>54</td><td>&quot;male&quot;</td><td>31.6</td><td>0</td><td>&quot;no&quot;</td><td>&quot;Antarctica&quot;</td><td>9850.432</td><td>&quot;no&quot;</td><td>&quot;salaried&quot;</td></tr></tbody></table></div>"
      ],
      "text/plain": [
       "shape: (2_772, 9)\n",
       "┌─────┬────────┬────────┬──────────┬───┬───────────────┬─────────────┬────────────────┬────────────┐\n",
       "│ age ┆ sex    ┆ bmi    ┆ children ┆ … ┆ region        ┆ charges     ┆ heart_disease_ ┆ occupation │\n",
       "│ --- ┆ ---    ┆ ---    ┆ ---      ┆   ┆ ---           ┆ ---         ┆ history        ┆ ---        │\n",
       "│ i64 ┆ str    ┆ f64    ┆ i64      ┆   ┆ str           ┆ f64         ┆ ---            ┆ str        │\n",
       "│     ┆        ┆        ┆          ┆   ┆               ┆             ┆ str            ┆            │\n",
       "╞═════╪════════╪════════╪══════════╪═══╪═══════════════╪═════════════╪════════════════╪════════════╡\n",
       "│ 19  ┆ female ┆ 27.9   ┆ 0        ┆ … ┆ Oceania       ┆ 16884.924   ┆ no             ┆ unemployed │\n",
       "│ 18  ┆ male   ┆ 33.77  ┆ 1        ┆ … ┆ Asia          ┆ 1725.5523   ┆ no             ┆ part-time  │\n",
       "│ 28  ┆ male   ┆ 33.0   ┆ 3        ┆ … ┆ Oceania       ┆ 4449.462    ┆ no             ┆ salaried   │\n",
       "│ 33  ┆ male   ┆ 22.705 ┆ 0        ┆ … ┆ South America ┆ 21984.47061 ┆ no             ┆ salaried   │\n",
       "│ 32  ┆ male   ┆ 28.88  ┆ 0        ┆ … ┆ Antarctica    ┆ 3866.8552   ┆ yes            ┆ business   │\n",
       "│ …   ┆ …      ┆ …      ┆ …        ┆ … ┆ …             ┆ …           ┆ …              ┆ …          │\n",
       "│ 47  ┆ female ┆ 45.32  ┆ 1        ┆ … ┆ Asia          ┆ 8569.8618   ┆ yes            ┆ salaried   │\n",
       "│ 21  ┆ female ┆ 34.6   ┆ 0        ┆ … ┆ Africa        ┆ 2020.177    ┆ no             ┆ part-time  │\n",
       "│ 19  ┆ male   ┆ 26.03  ┆ 1        ┆ … ┆ Africa        ┆ 16450.8947  ┆ no             ┆ unemployed │\n",
       "│ 23  ┆ male   ┆ 18.715 ┆ 0        ┆ … ┆ North America ┆ 21595.38229 ┆ no             ┆ unemployed │\n",
       "│ 54  ┆ male   ┆ 31.6   ┆ 0        ┆ … ┆ Antarctica    ┆ 9850.432    ┆ no             ┆ salaried   │\n",
       "└─────┴────────┴────────┴──────────┴───┴───────────────┴─────────────┴────────────────┴────────────┘"
      ]
     },
     "execution_count": 233,
     "metadata": {},
     "output_type": "execute_result"
    }
   ],
   "source": [
    "df = pl.read_csv(\"/home/addo/dev/projects/mip/dumped_stuff/assets/insurance_new.csv\")\n",
    "df"
   ]
  },
  {
   "cell_type": "code",
   "execution_count": 234,
   "metadata": {},
   "outputs": [],
   "source": [
    "# df = df.filter(df.is_unique())\n",
    "# df\n",
    "# df.is_duplicated().count()\n",
    "df = df.filter(df.is_unique())"
   ]
  },
  {
   "cell_type": "code",
   "execution_count": 235,
   "metadata": {},
   "outputs": [],
   "source": [
    "df = df.rename({\"sex\": \"gender\"})"
   ]
  },
  {
   "cell_type": "code",
   "execution_count": 236,
   "metadata": {},
   "outputs": [
    {
     "data": {
      "text/html": [
       "<div><style>\n",
       ".dataframe > thead > tr,\n",
       ".dataframe > tbody > tr {\n",
       "  text-align: right;\n",
       "  white-space: pre-wrap;\n",
       "}\n",
       "</style>\n",
       "<small>shape: (10, 9)</small><table border=\"1\" class=\"dataframe\"><thead><tr><th>age</th><th>gender</th><th>bmi</th><th>children</th><th>smoker</th><th>region</th><th>charges</th><th>heart_disease_history</th><th>occupation</th></tr><tr><td>i64</td><td>i64</td><td>f64</td><td>i64</td><td>i64</td><td>str</td><td>f64</td><td>i64</td><td>str</td></tr></thead><tbody><tr><td>19</td><td>0</td><td>27.9</td><td>0</td><td>1</td><td>&quot;Oceania&quot;</td><td>16884.924</td><td>0</td><td>&quot;unemployed&quot;</td></tr><tr><td>18</td><td>1</td><td>33.77</td><td>1</td><td>0</td><td>&quot;Asia&quot;</td><td>1725.5523</td><td>0</td><td>&quot;part-time&quot;</td></tr><tr><td>28</td><td>1</td><td>33.0</td><td>3</td><td>0</td><td>&quot;Oceania&quot;</td><td>4449.462</td><td>0</td><td>&quot;salaried&quot;</td></tr><tr><td>33</td><td>1</td><td>22.705</td><td>0</td><td>0</td><td>&quot;South America&quot;</td><td>21984.47061</td><td>0</td><td>&quot;salaried&quot;</td></tr><tr><td>32</td><td>1</td><td>28.88</td><td>0</td><td>0</td><td>&quot;Antarctica&quot;</td><td>3866.8552</td><td>1</td><td>&quot;business&quot;</td></tr><tr><td>31</td><td>0</td><td>25.74</td><td>0</td><td>0</td><td>&quot;South America&quot;</td><td>3756.6216</td><td>1</td><td>&quot;business&quot;</td></tr><tr><td>46</td><td>0</td><td>33.44</td><td>1</td><td>0</td><td>&quot;Europe&quot;</td><td>8240.5896</td><td>1</td><td>&quot;business&quot;</td></tr><tr><td>37</td><td>0</td><td>27.74</td><td>3</td><td>0</td><td>&quot;Africa&quot;</td><td>7281.5056</td><td>1</td><td>&quot;salaried&quot;</td></tr><tr><td>37</td><td>1</td><td>29.83</td><td>2</td><td>0</td><td>&quot;Africa&quot;</td><td>6406.4107</td><td>1</td><td>&quot;salaried&quot;</td></tr><tr><td>60</td><td>0</td><td>25.84</td><td>0</td><td>0</td><td>&quot;Oceania&quot;</td><td>28923.13692</td><td>1</td><td>&quot;retired&quot;</td></tr></tbody></table></div>"
      ],
      "text/plain": [
       "shape: (10, 9)\n",
       "┌─────┬────────┬────────┬──────────┬───┬───────────────┬─────────────┬────────────────┬────────────┐\n",
       "│ age ┆ gender ┆ bmi    ┆ children ┆ … ┆ region        ┆ charges     ┆ heart_disease_ ┆ occupation │\n",
       "│ --- ┆ ---    ┆ ---    ┆ ---      ┆   ┆ ---           ┆ ---         ┆ history        ┆ ---        │\n",
       "│ i64 ┆ i64    ┆ f64    ┆ i64      ┆   ┆ str           ┆ f64         ┆ ---            ┆ str        │\n",
       "│     ┆        ┆        ┆          ┆   ┆               ┆             ┆ i64            ┆            │\n",
       "╞═════╪════════╪════════╪══════════╪═══╪═══════════════╪═════════════╪════════════════╪════════════╡\n",
       "│ 19  ┆ 0      ┆ 27.9   ┆ 0        ┆ … ┆ Oceania       ┆ 16884.924   ┆ 0              ┆ unemployed │\n",
       "│ 18  ┆ 1      ┆ 33.77  ┆ 1        ┆ … ┆ Asia          ┆ 1725.5523   ┆ 0              ┆ part-time  │\n",
       "│ 28  ┆ 1      ┆ 33.0   ┆ 3        ┆ … ┆ Oceania       ┆ 4449.462    ┆ 0              ┆ salaried   │\n",
       "│ 33  ┆ 1      ┆ 22.705 ┆ 0        ┆ … ┆ South America ┆ 21984.47061 ┆ 0              ┆ salaried   │\n",
       "│ 32  ┆ 1      ┆ 28.88  ┆ 0        ┆ … ┆ Antarctica    ┆ 3866.8552   ┆ 1              ┆ business   │\n",
       "│ 31  ┆ 0      ┆ 25.74  ┆ 0        ┆ … ┆ South America ┆ 3756.6216   ┆ 1              ┆ business   │\n",
       "│ 46  ┆ 0      ┆ 33.44  ┆ 1        ┆ … ┆ Europe        ┆ 8240.5896   ┆ 1              ┆ business   │\n",
       "│ 37  ┆ 0      ┆ 27.74  ┆ 3        ┆ … ┆ Africa        ┆ 7281.5056   ┆ 1              ┆ salaried   │\n",
       "│ 37  ┆ 1      ┆ 29.83  ┆ 2        ┆ … ┆ Africa        ┆ 6406.4107   ┆ 1              ┆ salaried   │\n",
       "│ 60  ┆ 0      ┆ 25.84  ┆ 0        ┆ … ┆ Oceania       ┆ 28923.13692 ┆ 1              ┆ retired    │\n",
       "└─────┴────────┴────────┴──────────┴───┴───────────────┴─────────────┴────────────────┴────────────┘"
      ]
     },
     "execution_count": 236,
     "metadata": {},
     "output_type": "execute_result"
    }
   ],
   "source": [
    "le = LabelEncoder()\n",
    "df = df.with_columns(pl.Series(\"gender\", le.fit_transform(df[\"gender\"].to_list())))\n",
    "df = df.with_columns(pl.Series(\"smoker\", le.fit_transform(df[\"smoker\"].to_list())))\n",
    "\n",
    "df = df.with_columns(\n",
    "    pl.Series(\n",
    "        \"heart_disease_history\", le.fit_transform(df[\"heart_disease_history\"].to_list())\n",
    "    )\n",
    ")\n",
    "df.head(10)"
   ]
  },
  {
   "cell_type": "code",
   "execution_count": 237,
   "metadata": {},
   "outputs": [
    {
     "data": {
      "text/html": [
       "<div><style>\n",
       ".dataframe > thead > tr,\n",
       ".dataframe > tbody > tr {\n",
       "  text-align: right;\n",
       "  white-space: pre-wrap;\n",
       "}\n",
       "</style>\n",
       "<small>shape: (2_642, 21)</small><table border=\"1\" class=\"dataframe\"><thead><tr><th>age</th><th>gender</th><th>bmi</th><th>children</th><th>smoker</th><th>region_Africa</th><th>region_Antarctica</th><th>region_Asia</th><th>region_Europe</th><th>region_North America</th><th>region_Oceania</th><th>region_South America</th><th>charges</th><th>heart_disease_history</th><th>occupation_business</th><th>occupation_consultant</th><th>occupation_part-time</th><th>occupation_retired</th><th>occupation_salaried</th><th>occupation_student</th><th>occupation_unemployed</th></tr><tr><td>i64</td><td>i64</td><td>f64</td><td>i64</td><td>i64</td><td>u8</td><td>u8</td><td>u8</td><td>u8</td><td>u8</td><td>u8</td><td>u8</td><td>f64</td><td>i64</td><td>u8</td><td>u8</td><td>u8</td><td>u8</td><td>u8</td><td>u8</td><td>u8</td></tr></thead><tbody><tr><td>19</td><td>0</td><td>27.9</td><td>0</td><td>1</td><td>0</td><td>0</td><td>0</td><td>0</td><td>0</td><td>1</td><td>0</td><td>16884.924</td><td>0</td><td>0</td><td>0</td><td>0</td><td>0</td><td>0</td><td>0</td><td>1</td></tr><tr><td>18</td><td>1</td><td>33.77</td><td>1</td><td>0</td><td>0</td><td>0</td><td>1</td><td>0</td><td>0</td><td>0</td><td>0</td><td>1725.5523</td><td>0</td><td>0</td><td>0</td><td>1</td><td>0</td><td>0</td><td>0</td><td>0</td></tr><tr><td>28</td><td>1</td><td>33.0</td><td>3</td><td>0</td><td>0</td><td>0</td><td>0</td><td>0</td><td>0</td><td>1</td><td>0</td><td>4449.462</td><td>0</td><td>0</td><td>0</td><td>0</td><td>0</td><td>1</td><td>0</td><td>0</td></tr><tr><td>33</td><td>1</td><td>22.705</td><td>0</td><td>0</td><td>0</td><td>0</td><td>0</td><td>0</td><td>0</td><td>0</td><td>1</td><td>21984.47061</td><td>0</td><td>0</td><td>0</td><td>0</td><td>0</td><td>1</td><td>0</td><td>0</td></tr><tr><td>32</td><td>1</td><td>28.88</td><td>0</td><td>0</td><td>0</td><td>1</td><td>0</td><td>0</td><td>0</td><td>0</td><td>0</td><td>3866.8552</td><td>1</td><td>1</td><td>0</td><td>0</td><td>0</td><td>0</td><td>0</td><td>0</td></tr><tr><td>&hellip;</td><td>&hellip;</td><td>&hellip;</td><td>&hellip;</td><td>&hellip;</td><td>&hellip;</td><td>&hellip;</td><td>&hellip;</td><td>&hellip;</td><td>&hellip;</td><td>&hellip;</td><td>&hellip;</td><td>&hellip;</td><td>&hellip;</td><td>&hellip;</td><td>&hellip;</td><td>&hellip;</td><td>&hellip;</td><td>&hellip;</td><td>&hellip;</td><td>&hellip;</td></tr><tr><td>47</td><td>0</td><td>45.32</td><td>1</td><td>0</td><td>0</td><td>0</td><td>1</td><td>0</td><td>0</td><td>0</td><td>0</td><td>8569.8618</td><td>1</td><td>0</td><td>0</td><td>0</td><td>0</td><td>1</td><td>0</td><td>0</td></tr><tr><td>21</td><td>0</td><td>34.6</td><td>0</td><td>0</td><td>1</td><td>0</td><td>0</td><td>0</td><td>0</td><td>0</td><td>0</td><td>2020.177</td><td>0</td><td>0</td><td>0</td><td>1</td><td>0</td><td>0</td><td>0</td><td>0</td></tr><tr><td>19</td><td>1</td><td>26.03</td><td>1</td><td>1</td><td>1</td><td>0</td><td>0</td><td>0</td><td>0</td><td>0</td><td>0</td><td>16450.8947</td><td>0</td><td>0</td><td>0</td><td>0</td><td>0</td><td>0</td><td>0</td><td>1</td></tr><tr><td>23</td><td>1</td><td>18.715</td><td>0</td><td>0</td><td>0</td><td>0</td><td>0</td><td>0</td><td>1</td><td>0</td><td>0</td><td>21595.38229</td><td>0</td><td>0</td><td>0</td><td>0</td><td>0</td><td>0</td><td>0</td><td>1</td></tr><tr><td>54</td><td>1</td><td>31.6</td><td>0</td><td>0</td><td>0</td><td>1</td><td>0</td><td>0</td><td>0</td><td>0</td><td>0</td><td>9850.432</td><td>0</td><td>0</td><td>0</td><td>0</td><td>0</td><td>1</td><td>0</td><td>0</td></tr></tbody></table></div>"
      ],
      "text/plain": [
       "shape: (2_642, 21)\n",
       "┌─────┬────────┬────────┬──────────┬───┬──────────────┬──────────────┬──────────────┬──────────────┐\n",
       "│ age ┆ gender ┆ bmi    ┆ children ┆ … ┆ occupation_r ┆ occupation_s ┆ occupation_s ┆ occupation_u │\n",
       "│ --- ┆ ---    ┆ ---    ┆ ---      ┆   ┆ etired       ┆ alaried      ┆ tudent       ┆ nemployed    │\n",
       "│ i64 ┆ i64    ┆ f64    ┆ i64      ┆   ┆ ---          ┆ ---          ┆ ---          ┆ ---          │\n",
       "│     ┆        ┆        ┆          ┆   ┆ u8           ┆ u8           ┆ u8           ┆ u8           │\n",
       "╞═════╪════════╪════════╪══════════╪═══╪══════════════╪══════════════╪══════════════╪══════════════╡\n",
       "│ 19  ┆ 0      ┆ 27.9   ┆ 0        ┆ … ┆ 0            ┆ 0            ┆ 0            ┆ 1            │\n",
       "│ 18  ┆ 1      ┆ 33.77  ┆ 1        ┆ … ┆ 0            ┆ 0            ┆ 0            ┆ 0            │\n",
       "│ 28  ┆ 1      ┆ 33.0   ┆ 3        ┆ … ┆ 0            ┆ 1            ┆ 0            ┆ 0            │\n",
       "│ 33  ┆ 1      ┆ 22.705 ┆ 0        ┆ … ┆ 0            ┆ 1            ┆ 0            ┆ 0            │\n",
       "│ 32  ┆ 1      ┆ 28.88  ┆ 0        ┆ … ┆ 0            ┆ 0            ┆ 0            ┆ 0            │\n",
       "│ …   ┆ …      ┆ …      ┆ …        ┆ … ┆ …            ┆ …            ┆ …            ┆ …            │\n",
       "│ 47  ┆ 0      ┆ 45.32  ┆ 1        ┆ … ┆ 0            ┆ 1            ┆ 0            ┆ 0            │\n",
       "│ 21  ┆ 0      ┆ 34.6   ┆ 0        ┆ … ┆ 0            ┆ 0            ┆ 0            ┆ 0            │\n",
       "│ 19  ┆ 1      ┆ 26.03  ┆ 1        ┆ … ┆ 0            ┆ 0            ┆ 0            ┆ 1            │\n",
       "│ 23  ┆ 1      ┆ 18.715 ┆ 0        ┆ … ┆ 0            ┆ 0            ┆ 0            ┆ 1            │\n",
       "│ 54  ┆ 1      ┆ 31.6   ┆ 0        ┆ … ┆ 0            ┆ 1            ┆ 0            ┆ 0            │\n",
       "└─────┴────────┴────────┴──────────┴───┴──────────────┴──────────────┴──────────────┴──────────────┘"
      ]
     },
     "execution_count": 237,
     "metadata": {},
     "output_type": "execute_result"
    }
   ],
   "source": [
    "df = df.to_dummies(\"occupation\")\n",
    "df = df.to_dummies(\"region\")\n",
    "df"
   ]
  },
  {
   "cell_type": "code",
   "execution_count": 238,
   "metadata": {},
   "outputs": [],
   "source": [
    "X = df.drop(\"charges\").to_numpy()\n",
    "y = df.select(pl.col(\"charges\")).to_numpy()\n",
    "\n",
    "# y_log = np.log(y + 1)\n",
    "y_log = y\n",
    "\n",
    "X_train, X_test, y_train, y_test = train_test_split(\n",
    "    X, y_log, test_size=0.2, random_state=42\n",
    ")"
   ]
  },
  {
   "cell_type": "code",
   "execution_count": 239,
   "metadata": {},
   "outputs": [],
   "source": [
    "scaler = StandardScaler()\n",
    "X_train_scaled = scaler.fit_transform(X_train)\n",
    "X_test_scaled = scaler.transform(X_test)"
   ]
  },
  {
   "cell_type": "code",
   "execution_count": 240,
   "metadata": {},
   "outputs": [
    {
     "name": "stderr",
     "output_type": "stream",
     "text": [
      "/home/addo/.cache/pypoetry/virtualenvs/mip-0Pm6OJve-py3.12/lib/python3.12/site-packages/sklearn/base.py:1473: DataConversionWarning: A column-vector y was passed when a 1d array was expected. Please change the shape of y to (n_samples,), for example using ravel().\n",
      "  return fit_method(estimator, *args, **kwargs)\n",
      "/home/addo/.cache/pypoetry/virtualenvs/mip-0Pm6OJve-py3.12/lib/python3.12/site-packages/sklearn/base.py:1473: DataConversionWarning: A column-vector y was passed when a 1d array was expected. Please change the shape of y to (n_samples,), for example using ravel().\n",
      "  return fit_method(estimator, *args, **kwargs)\n",
      "/home/addo/.cache/pypoetry/virtualenvs/mip-0Pm6OJve-py3.12/lib/python3.12/site-packages/sklearn/base.py:1473: DataConversionWarning: A column-vector y was passed when a 1d array was expected. Please change the shape of y to (n_samples,), for example using ravel().\n",
      "  return fit_method(estimator, *args, **kwargs)\n",
      "/home/addo/.cache/pypoetry/virtualenvs/mip-0Pm6OJve-py3.12/lib/python3.12/site-packages/sklearn/base.py:1473: DataConversionWarning: A column-vector y was passed when a 1d array was expected. Please change the shape of y to (n_samples,), for example using ravel().\n",
      "  return fit_method(estimator, *args, **kwargs)\n",
      "/home/addo/.cache/pypoetry/virtualenvs/mip-0Pm6OJve-py3.12/lib/python3.12/site-packages/sklearn/base.py:1473: DataConversionWarning: A column-vector y was passed when a 1d array was expected. Please change the shape of y to (n_samples,), for example using ravel().\n",
      "  return fit_method(estimator, *args, **kwargs)\n",
      "/home/addo/.cache/pypoetry/virtualenvs/mip-0Pm6OJve-py3.12/lib/python3.12/site-packages/sklearn/base.py:1473: DataConversionWarning: A column-vector y was passed when a 1d array was expected. Please change the shape of y to (n_samples,), for example using ravel().\n",
      "  return fit_method(estimator, *args, **kwargs)\n",
      "/home/addo/.cache/pypoetry/virtualenvs/mip-0Pm6OJve-py3.12/lib/python3.12/site-packages/sklearn/base.py:1473: DataConversionWarning: A column-vector y was passed when a 1d array was expected. Please change the shape of y to (n_samples,), for example using ravel().\n",
      "  return fit_method(estimator, *args, **kwargs)\n",
      "/home/addo/.cache/pypoetry/virtualenvs/mip-0Pm6OJve-py3.12/lib/python3.12/site-packages/sklearn/base.py:1473: DataConversionWarning: A column-vector y was passed when a 1d array was expected. Please change the shape of y to (n_samples,), for example using ravel().\n",
      "  return fit_method(estimator, *args, **kwargs)\n",
      "/home/addo/.cache/pypoetry/virtualenvs/mip-0Pm6OJve-py3.12/lib/python3.12/site-packages/sklearn/base.py:1473: DataConversionWarning: A column-vector y was passed when a 1d array was expected. Please change the shape of y to (n_samples,), for example using ravel().\n",
      "  return fit_method(estimator, *args, **kwargs)\n",
      "/home/addo/.cache/pypoetry/virtualenvs/mip-0Pm6OJve-py3.12/lib/python3.12/site-packages/sklearn/base.py:1473: DataConversionWarning: A column-vector y was passed when a 1d array was expected. Please change the shape of y to (n_samples,), for example using ravel().\n",
      "  return fit_method(estimator, *args, **kwargs)\n",
      "/home/addo/.cache/pypoetry/virtualenvs/mip-0Pm6OJve-py3.12/lib/python3.12/site-packages/sklearn/base.py:1473: DataConversionWarning: A column-vector y was passed when a 1d array was expected. Please change the shape of y to (n_samples,), for example using ravel().\n",
      "  return fit_method(estimator, *args, **kwargs)\n",
      "/home/addo/.cache/pypoetry/virtualenvs/mip-0Pm6OJve-py3.12/lib/python3.12/site-packages/sklearn/base.py:1473: DataConversionWarning: A column-vector y was passed when a 1d array was expected. Please change the shape of y to (n_samples,), for example using ravel().\n",
      "  return fit_method(estimator, *args, **kwargs)\n",
      "/home/addo/.cache/pypoetry/virtualenvs/mip-0Pm6OJve-py3.12/lib/python3.12/site-packages/sklearn/base.py:1473: DataConversionWarning: A column-vector y was passed when a 1d array was expected. Please change the shape of y to (n_samples,), for example using ravel().\n",
      "  return fit_method(estimator, *args, **kwargs)\n",
      "/home/addo/.cache/pypoetry/virtualenvs/mip-0Pm6OJve-py3.12/lib/python3.12/site-packages/sklearn/base.py:1473: DataConversionWarning: A column-vector y was passed when a 1d array was expected. Please change the shape of y to (n_samples,), for example using ravel().\n",
      "  return fit_method(estimator, *args, **kwargs)\n",
      "/home/addo/.cache/pypoetry/virtualenvs/mip-0Pm6OJve-py3.12/lib/python3.12/site-packages/sklearn/base.py:1473: DataConversionWarning: A column-vector y was passed when a 1d array was expected. Please change the shape of y to (n_samples,), for example using ravel().\n",
      "  return fit_method(estimator, *args, **kwargs)\n",
      "/home/addo/.cache/pypoetry/virtualenvs/mip-0Pm6OJve-py3.12/lib/python3.12/site-packages/sklearn/base.py:1473: DataConversionWarning: A column-vector y was passed when a 1d array was expected. Please change the shape of y to (n_samples,), for example using ravel().\n",
      "  return fit_method(estimator, *args, **kwargs)\n",
      "/home/addo/.cache/pypoetry/virtualenvs/mip-0Pm6OJve-py3.12/lib/python3.12/site-packages/sklearn/base.py:1473: DataConversionWarning: A column-vector y was passed when a 1d array was expected. Please change the shape of y to (n_samples,), for example using ravel().\n",
      "  return fit_method(estimator, *args, **kwargs)\n",
      "/home/addo/.cache/pypoetry/virtualenvs/mip-0Pm6OJve-py3.12/lib/python3.12/site-packages/sklearn/base.py:1473: DataConversionWarning: A column-vector y was passed when a 1d array was expected. Please change the shape of y to (n_samples,), for example using ravel().\n",
      "  return fit_method(estimator, *args, **kwargs)\n",
      "/home/addo/.cache/pypoetry/virtualenvs/mip-0Pm6OJve-py3.12/lib/python3.12/site-packages/sklearn/base.py:1473: DataConversionWarning: A column-vector y was passed when a 1d array was expected. Please change the shape of y to (n_samples,), for example using ravel().\n",
      "  return fit_method(estimator, *args, **kwargs)\n",
      "/home/addo/.cache/pypoetry/virtualenvs/mip-0Pm6OJve-py3.12/lib/python3.12/site-packages/sklearn/base.py:1473: DataConversionWarning: A column-vector y was passed when a 1d array was expected. Please change the shape of y to (n_samples,), for example using ravel().\n",
      "  return fit_method(estimator, *args, **kwargs)\n",
      "/home/addo/.cache/pypoetry/virtualenvs/mip-0Pm6OJve-py3.12/lib/python3.12/site-packages/sklearn/base.py:1473: DataConversionWarning: A column-vector y was passed when a 1d array was expected. Please change the shape of y to (n_samples,), for example using ravel().\n",
      "  return fit_method(estimator, *args, **kwargs)\n",
      "/home/addo/.cache/pypoetry/virtualenvs/mip-0Pm6OJve-py3.12/lib/python3.12/site-packages/sklearn/base.py:1473: DataConversionWarning: A column-vector y was passed when a 1d array was expected. Please change the shape of y to (n_samples,), for example using ravel().\n",
      "  return fit_method(estimator, *args, **kwargs)\n",
      "/home/addo/.cache/pypoetry/virtualenvs/mip-0Pm6OJve-py3.12/lib/python3.12/site-packages/sklearn/base.py:1473: DataConversionWarning: A column-vector y was passed when a 1d array was expected. Please change the shape of y to (n_samples,), for example using ravel().\n",
      "  return fit_method(estimator, *args, **kwargs)\n",
      "/home/addo/.cache/pypoetry/virtualenvs/mip-0Pm6OJve-py3.12/lib/python3.12/site-packages/sklearn/base.py:1473: DataConversionWarning: A column-vector y was passed when a 1d array was expected. Please change the shape of y to (n_samples,), for example using ravel().\n",
      "  return fit_method(estimator, *args, **kwargs)\n",
      "/home/addo/.cache/pypoetry/virtualenvs/mip-0Pm6OJve-py3.12/lib/python3.12/site-packages/sklearn/base.py:1473: DataConversionWarning: A column-vector y was passed when a 1d array was expected. Please change the shape of y to (n_samples,), for example using ravel().\n",
      "  return fit_method(estimator, *args, **kwargs)\n",
      "/home/addo/.cache/pypoetry/virtualenvs/mip-0Pm6OJve-py3.12/lib/python3.12/site-packages/sklearn/base.py:1473: DataConversionWarning: A column-vector y was passed when a 1d array was expected. Please change the shape of y to (n_samples,), for example using ravel().\n",
      "  return fit_method(estimator, *args, **kwargs)\n",
      "/home/addo/.cache/pypoetry/virtualenvs/mip-0Pm6OJve-py3.12/lib/python3.12/site-packages/sklearn/base.py:1473: DataConversionWarning: A column-vector y was passed when a 1d array was expected. Please change the shape of y to (n_samples,), for example using ravel().\n",
      "  return fit_method(estimator, *args, **kwargs)\n",
      "/home/addo/.cache/pypoetry/virtualenvs/mip-0Pm6OJve-py3.12/lib/python3.12/site-packages/sklearn/base.py:1473: DataConversionWarning: A column-vector y was passed when a 1d array was expected. Please change the shape of y to (n_samples,), for example using ravel().\n",
      "  return fit_method(estimator, *args, **kwargs)\n",
      "/home/addo/.cache/pypoetry/virtualenvs/mip-0Pm6OJve-py3.12/lib/python3.12/site-packages/sklearn/base.py:1473: DataConversionWarning: A column-vector y was passed when a 1d array was expected. Please change the shape of y to (n_samples,), for example using ravel().\n",
      "  return fit_method(estimator, *args, **kwargs)\n",
      "/home/addo/.cache/pypoetry/virtualenvs/mip-0Pm6OJve-py3.12/lib/python3.12/site-packages/sklearn/base.py:1473: DataConversionWarning: A column-vector y was passed when a 1d array was expected. Please change the shape of y to (n_samples,), for example using ravel().\n",
      "  return fit_method(estimator, *args, **kwargs)\n",
      "/home/addo/.cache/pypoetry/virtualenvs/mip-0Pm6OJve-py3.12/lib/python3.12/site-packages/sklearn/base.py:1473: DataConversionWarning: A column-vector y was passed when a 1d array was expected. Please change the shape of y to (n_samples,), for example using ravel().\n",
      "  return fit_method(estimator, *args, **kwargs)\n",
      "/home/addo/.cache/pypoetry/virtualenvs/mip-0Pm6OJve-py3.12/lib/python3.12/site-packages/sklearn/base.py:1473: DataConversionWarning: A column-vector y was passed when a 1d array was expected. Please change the shape of y to (n_samples,), for example using ravel().\n",
      "  return fit_method(estimator, *args, **kwargs)\n",
      "/home/addo/.cache/pypoetry/virtualenvs/mip-0Pm6OJve-py3.12/lib/python3.12/site-packages/sklearn/base.py:1473: DataConversionWarning: A column-vector y was passed when a 1d array was expected. Please change the shape of y to (n_samples,), for example using ravel().\n",
      "  return fit_method(estimator, *args, **kwargs)\n",
      "/home/addo/.cache/pypoetry/virtualenvs/mip-0Pm6OJve-py3.12/lib/python3.12/site-packages/sklearn/base.py:1473: DataConversionWarning: A column-vector y was passed when a 1d array was expected. Please change the shape of y to (n_samples,), for example using ravel().\n",
      "  return fit_method(estimator, *args, **kwargs)\n",
      "/home/addo/.cache/pypoetry/virtualenvs/mip-0Pm6OJve-py3.12/lib/python3.12/site-packages/sklearn/base.py:1473: DataConversionWarning: A column-vector y was passed when a 1d array was expected. Please change the shape of y to (n_samples,), for example using ravel().\n",
      "  return fit_method(estimator, *args, **kwargs)\n",
      "/home/addo/.cache/pypoetry/virtualenvs/mip-0Pm6OJve-py3.12/lib/python3.12/site-packages/sklearn/base.py:1473: DataConversionWarning: A column-vector y was passed when a 1d array was expected. Please change the shape of y to (n_samples,), for example using ravel().\n",
      "  return fit_method(estimator, *args, **kwargs)\n",
      "/home/addo/.cache/pypoetry/virtualenvs/mip-0Pm6OJve-py3.12/lib/python3.12/site-packages/sklearn/base.py:1473: DataConversionWarning: A column-vector y was passed when a 1d array was expected. Please change the shape of y to (n_samples,), for example using ravel().\n",
      "  return fit_method(estimator, *args, **kwargs)\n",
      "/home/addo/.cache/pypoetry/virtualenvs/mip-0Pm6OJve-py3.12/lib/python3.12/site-packages/sklearn/base.py:1473: DataConversionWarning: A column-vector y was passed when a 1d array was expected. Please change the shape of y to (n_samples,), for example using ravel().\n",
      "  return fit_method(estimator, *args, **kwargs)\n",
      "/home/addo/.cache/pypoetry/virtualenvs/mip-0Pm6OJve-py3.12/lib/python3.12/site-packages/sklearn/base.py:1473: DataConversionWarning: A column-vector y was passed when a 1d array was expected. Please change the shape of y to (n_samples,), for example using ravel().\n",
      "  return fit_method(estimator, *args, **kwargs)\n",
      "/home/addo/.cache/pypoetry/virtualenvs/mip-0Pm6OJve-py3.12/lib/python3.12/site-packages/sklearn/base.py:1473: DataConversionWarning: A column-vector y was passed when a 1d array was expected. Please change the shape of y to (n_samples,), for example using ravel().\n",
      "  return fit_method(estimator, *args, **kwargs)\n",
      "/home/addo/.cache/pypoetry/virtualenvs/mip-0Pm6OJve-py3.12/lib/python3.12/site-packages/sklearn/base.py:1473: DataConversionWarning: A column-vector y was passed when a 1d array was expected. Please change the shape of y to (n_samples,), for example using ravel().\n",
      "  return fit_method(estimator, *args, **kwargs)\n",
      "/home/addo/.cache/pypoetry/virtualenvs/mip-0Pm6OJve-py3.12/lib/python3.12/site-packages/sklearn/base.py:1473: DataConversionWarning: A column-vector y was passed when a 1d array was expected. Please change the shape of y to (n_samples,), for example using ravel().\n",
      "  return fit_method(estimator, *args, **kwargs)\n",
      "/home/addo/.cache/pypoetry/virtualenvs/mip-0Pm6OJve-py3.12/lib/python3.12/site-packages/sklearn/base.py:1473: DataConversionWarning: A column-vector y was passed when a 1d array was expected. Please change the shape of y to (n_samples,), for example using ravel().\n",
      "  return fit_method(estimator, *args, **kwargs)\n",
      "/home/addo/.cache/pypoetry/virtualenvs/mip-0Pm6OJve-py3.12/lib/python3.12/site-packages/sklearn/base.py:1473: DataConversionWarning: A column-vector y was passed when a 1d array was expected. Please change the shape of y to (n_samples,), for example using ravel().\n",
      "  return fit_method(estimator, *args, **kwargs)\n",
      "/home/addo/.cache/pypoetry/virtualenvs/mip-0Pm6OJve-py3.12/lib/python3.12/site-packages/sklearn/base.py:1473: DataConversionWarning: A column-vector y was passed when a 1d array was expected. Please change the shape of y to (n_samples,), for example using ravel().\n",
      "  return fit_method(estimator, *args, **kwargs)\n",
      "/home/addo/.cache/pypoetry/virtualenvs/mip-0Pm6OJve-py3.12/lib/python3.12/site-packages/sklearn/base.py:1473: DataConversionWarning: A column-vector y was passed when a 1d array was expected. Please change the shape of y to (n_samples,), for example using ravel().\n",
      "  return fit_method(estimator, *args, **kwargs)\n",
      "/home/addo/.cache/pypoetry/virtualenvs/mip-0Pm6OJve-py3.12/lib/python3.12/site-packages/sklearn/base.py:1473: DataConversionWarning: A column-vector y was passed when a 1d array was expected. Please change the shape of y to (n_samples,), for example using ravel().\n",
      "  return fit_method(estimator, *args, **kwargs)\n",
      "/home/addo/.cache/pypoetry/virtualenvs/mip-0Pm6OJve-py3.12/lib/python3.12/site-packages/sklearn/base.py:1473: DataConversionWarning: A column-vector y was passed when a 1d array was expected. Please change the shape of y to (n_samples,), for example using ravel().\n",
      "  return fit_method(estimator, *args, **kwargs)\n",
      "/home/addo/.cache/pypoetry/virtualenvs/mip-0Pm6OJve-py3.12/lib/python3.12/site-packages/sklearn/base.py:1473: DataConversionWarning: A column-vector y was passed when a 1d array was expected. Please change the shape of y to (n_samples,), for example using ravel().\n",
      "  return fit_method(estimator, *args, **kwargs)\n",
      "/home/addo/.cache/pypoetry/virtualenvs/mip-0Pm6OJve-py3.12/lib/python3.12/site-packages/sklearn/base.py:1473: DataConversionWarning: A column-vector y was passed when a 1d array was expected. Please change the shape of y to (n_samples,), for example using ravel().\n",
      "  return fit_method(estimator, *args, **kwargs)\n",
      "/home/addo/.cache/pypoetry/virtualenvs/mip-0Pm6OJve-py3.12/lib/python3.12/site-packages/sklearn/base.py:1473: DataConversionWarning: A column-vector y was passed when a 1d array was expected. Please change the shape of y to (n_samples,), for example using ravel().\n",
      "  return fit_method(estimator, *args, **kwargs)\n",
      "/home/addo/.cache/pypoetry/virtualenvs/mip-0Pm6OJve-py3.12/lib/python3.12/site-packages/sklearn/base.py:1473: DataConversionWarning: A column-vector y was passed when a 1d array was expected. Please change the shape of y to (n_samples,), for example using ravel().\n",
      "  return fit_method(estimator, *args, **kwargs)\n",
      "/home/addo/.cache/pypoetry/virtualenvs/mip-0Pm6OJve-py3.12/lib/python3.12/site-packages/sklearn/base.py:1473: DataConversionWarning: A column-vector y was passed when a 1d array was expected. Please change the shape of y to (n_samples,), for example using ravel().\n",
      "  return fit_method(estimator, *args, **kwargs)\n",
      "/home/addo/.cache/pypoetry/virtualenvs/mip-0Pm6OJve-py3.12/lib/python3.12/site-packages/sklearn/base.py:1473: DataConversionWarning: A column-vector y was passed when a 1d array was expected. Please change the shape of y to (n_samples,), for example using ravel().\n",
      "  return fit_method(estimator, *args, **kwargs)\n",
      "/home/addo/.cache/pypoetry/virtualenvs/mip-0Pm6OJve-py3.12/lib/python3.12/site-packages/sklearn/base.py:1473: DataConversionWarning: A column-vector y was passed when a 1d array was expected. Please change the shape of y to (n_samples,), for example using ravel().\n",
      "  return fit_method(estimator, *args, **kwargs)\n",
      "/home/addo/.cache/pypoetry/virtualenvs/mip-0Pm6OJve-py3.12/lib/python3.12/site-packages/sklearn/base.py:1473: DataConversionWarning: A column-vector y was passed when a 1d array was expected. Please change the shape of y to (n_samples,), for example using ravel().\n",
      "  return fit_method(estimator, *args, **kwargs)\n",
      "/home/addo/.cache/pypoetry/virtualenvs/mip-0Pm6OJve-py3.12/lib/python3.12/site-packages/sklearn/base.py:1473: DataConversionWarning: A column-vector y was passed when a 1d array was expected. Please change the shape of y to (n_samples,), for example using ravel().\n",
      "  return fit_method(estimator, *args, **kwargs)\n",
      "/home/addo/.cache/pypoetry/virtualenvs/mip-0Pm6OJve-py3.12/lib/python3.12/site-packages/sklearn/base.py:1473: DataConversionWarning: A column-vector y was passed when a 1d array was expected. Please change the shape of y to (n_samples,), for example using ravel().\n",
      "  return fit_method(estimator, *args, **kwargs)\n",
      "/home/addo/.cache/pypoetry/virtualenvs/mip-0Pm6OJve-py3.12/lib/python3.12/site-packages/sklearn/base.py:1473: DataConversionWarning: A column-vector y was passed when a 1d array was expected. Please change the shape of y to (n_samples,), for example using ravel().\n",
      "  return fit_method(estimator, *args, **kwargs)\n",
      "/home/addo/.cache/pypoetry/virtualenvs/mip-0Pm6OJve-py3.12/lib/python3.12/site-packages/sklearn/base.py:1473: DataConversionWarning: A column-vector y was passed when a 1d array was expected. Please change the shape of y to (n_samples,), for example using ravel().\n",
      "  return fit_method(estimator, *args, **kwargs)\n",
      "/home/addo/.cache/pypoetry/virtualenvs/mip-0Pm6OJve-py3.12/lib/python3.12/site-packages/sklearn/base.py:1473: DataConversionWarning: A column-vector y was passed when a 1d array was expected. Please change the shape of y to (n_samples,), for example using ravel().\n",
      "  return fit_method(estimator, *args, **kwargs)\n"
     ]
    },
    {
     "name": "stdout",
     "output_type": "stream",
     "text": [
      "Best Random Forest MSE: 12342526.145498062\n",
      "Best Random Forest MAE: 1798.6348072513501\n",
      "Best Random Forest R²: 0.9161952248690163\n"
     ]
    }
   ],
   "source": [
    "param_grid = {\n",
    "    \"n_estimators\": [100, 200],\n",
    "    \"max_depth\": [None, 10, 20],\n",
    "    \"min_samples_split\": [2, 5],\n",
    "}\n",
    "\n",
    "rf_model = RandomForestRegressor(random_state=42)\n",
    "\n",
    "grid_search = GridSearchCV(\n",
    "    estimator=rf_model, param_grid=param_grid, cv=5, scoring=\"neg_mean_squared_error\"\n",
    ")\n",
    "\n",
    "grid_search.fit(X_train_scaled, y_train)\n",
    "\n",
    "best_model = grid_search.best_estimator_\n",
    "\n",
    "y_pred_best = best_model.predict(X_test_scaled)\n",
    "# y_pred_best_original = np.exp(y_pred_best) - 1  # Inverse of log transformation\n",
    "y_pred_best_original = y_pred_best\n",
    "\n",
    "mse_best = mean_squared_error(y_test, y_pred_best_original)\n",
    "mae_best = mean_absolute_error(y_test, y_pred_best_original)\n",
    "r2_best = r2_score(y_test, y_pred_best_original)\n",
    "\n",
    "print(f\"Best Random Forest MSE: {mse_best}\")\n",
    "print(f\"Best Random Forest MAE: {mae_best}\")\n",
    "print(f\"Best Random Forest R²: {r2_best}\")"
   ]
  },
  {
   "cell_type": "code",
   "execution_count": 241,
   "metadata": {},
   "outputs": [],
   "source": [
    "# import xgboost as xgb\n",
    "# from sklearn.model_selection import RandomizedSearchCV\n",
    "\n",
    "# # Define the model\n",
    "# xgb_model = xgb.XGBRegressor(random_state=42)\n",
    "\n",
    "# # Define the parameter grid for Randomized Search\n",
    "# param_distributions = {\n",
    "#     \"n_estimators\": [100, 200, 300],\n",
    "#     \"max_depth\": [None, 10, 20, 30],\n",
    "#     \"learning_rate\": [0.01, 0.1, 0.2],\n",
    "#     \"subsample\": [0.5, 0.7, 1.0],\n",
    "#     \"colsample_bytree\": [0.5, 0.7, 1.0],\n",
    "# }\n",
    "\n",
    "# # Set up Randomized Search CV\n",
    "# randomized_search = RandomizedSearchCV(\n",
    "#     estimator=xgb_model,\n",
    "#     param_distributions=param_distributions,\n",
    "#     n_iter=10,  # Number of parameter settings to sample\n",
    "#     cv=5,\n",
    "#     scoring=\"neg_mean_squared_error\",\n",
    "#     random_state=42,\n",
    "#     verbose=1,\n",
    "# )\n",
    "\n",
    "# # Fit the model\n",
    "# randomized_search.fit(X_train_scaled, y_train)\n",
    "\n",
    "# # Get the best parameters and model\n",
    "# best_params = randomized_search.best_params_\n",
    "# best_model = randomized_search.best_estimator_\n",
    "\n",
    "# print(f\"Best Parameters: {best_params}\")\n",
    "\n",
    "# # Predictions\n",
    "# y_pred_best = best_model.predict(X_test_scaled)\n",
    "\n",
    "# # Convert predictions back to original scale if needed\n",
    "# # y_pred_best_original = np.exp(y_pred_best)\n",
    "# y_pred_best_original = y_pred_best\n",
    "\n",
    "# np_stuff = y_test\n",
    "# # Evaluate the model\n",
    "# mse_best = mean_squared_error(np_stuff, y_pred_best_original)\n",
    "# mae_best = mean_absolute_error(np_stuff, y_pred_best_original)\n",
    "# r2_best = r2_score(np_stuff, y_pred_best_original)\n",
    "\n",
    "# print(f\"XGBoost MSE: {mse_best}\")\n",
    "# print(f\"XGBoost MAE: {mae_best}\")\n",
    "# print(f\"XGBoost R²: {r2_best}\")"
   ]
  },
  {
   "cell_type": "code",
   "execution_count": 242,
   "metadata": {},
   "outputs": [],
   "source": [
    "import pickle\n",
    "\n",
    "\n",
    "with open(\"/home/addo/dev/projects/mip/dumped_stuff/model/rf_model.pkl\", \"wb\") as f:\n",
    "    pickle.dump(best_model, f)"
   ]
  },
  {
   "cell_type": "code",
   "execution_count": null,
   "metadata": {},
   "outputs": [],
   "source": []
  }
 ],
 "metadata": {
  "kernelspec": {
   "display_name": "mip-0Pm6OJve-py3.12",
   "language": "python",
   "name": "python3"
  },
  "language_info": {
   "codemirror_mode": {
    "name": "ipython",
    "version": 3
   },
   "file_extension": ".py",
   "mimetype": "text/x-python",
   "name": "python",
   "nbconvert_exporter": "python",
   "pygments_lexer": "ipython3",
   "version": "3.12.3"
  }
 },
 "nbformat": 4,
 "nbformat_minor": 2
}
